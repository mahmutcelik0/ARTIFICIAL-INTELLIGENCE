{
 "cells": [
  {
   "cell_type": "markdown",
   "id": "20a70df9",
   "metadata": {
    "id": "20a70df9",
    "papermill": {
     "duration": 0.025938,
     "end_time": "2022-06-01T13:27:48.335585",
     "exception": false,
     "start_time": "2022-06-01T13:27:48.309647",
     "status": "completed"
    },
    "tags": []
   },
   "source": [
    "### Gerekli kütüphaneler <a id=\"2\"> </a>"
   ]
  },
  {
   "cell_type": "code",
   "execution_count": 1,
   "id": "502917dc",
   "metadata": {
    "execution": {
     "iopub.execute_input": "2022-06-01T13:27:48.390161Z",
     "iopub.status.busy": "2022-06-01T13:27:48.389598Z",
     "iopub.status.idle": "2022-06-01T13:27:49.851647Z",
     "shell.execute_reply": "2022-06-01T13:27:49.850540Z"
    },
    "id": "502917dc",
    "papermill": {
     "duration": 1.492701,
     "end_time": "2022-06-01T13:27:49.854544",
     "exception": false,
     "start_time": "2022-06-01T13:27:48.361843",
     "status": "completed"
    },
    "tags": []
   },
   "outputs": [],
   "source": [
    "#Gerekli kütüphaneleri yüklemekle başlayalım. \n",
    "\n",
    "import numpy as np\n",
    "import pandas as pd\n",
    "import matplotlib.pyplot as plt \n",
    "from sklearn import preprocessing   \n",
    "from warnings import filterwarnings\n",
    "from sklearn.model_selection import train_test_split, GridSearchCV, cross_val_score\n",
    "from sklearn.metrics import confusion_matrix, accuracy_score, classification_report\n",
    "from sklearn.preprocessing import LabelEncoder, StandardScaler\n",
    "\n",
    "from sklearn.neighbors import KNeighborsClassifier\n",
    "from sklearn.tree import DecisionTreeClassifier\n",
    "\n",
    "filterwarnings('ignore')\n",
    "\n"
   ]
  },
  {
   "cell_type": "code",
   "execution_count": 2,
   "id": "9f9e93ec",
   "metadata": {},
   "outputs": [],
   "source": [
    "df = pd.read_csv(\"tablet.csv\").copy()"
   ]
  },
  {
   "cell_type": "markdown",
   "id": "3ec6da59",
   "metadata": {},
   "source": [
    "### Örnek 5 veri"
   ]
  },
  {
   "cell_type": "code",
   "execution_count": 3,
   "id": "1d60b38f",
   "metadata": {
    "colab": {
     "base_uri": "https://localhost:8080/",
     "height": 270
    },
    "execution": {
     "iopub.execute_input": "2022-06-01T13:27:50.210665Z",
     "iopub.status.busy": "2022-06-01T13:27:50.209807Z",
     "iopub.status.idle": "2022-06-01T13:27:50.235182Z",
     "shell.execute_reply": "2022-06-01T13:27:50.234532Z"
    },
    "id": "1d60b38f",
    "outputId": "0bdb440a-54e9-45c8-9868-023832093c53",
    "papermill": {
     "duration": 0.055116,
     "end_time": "2022-06-01T13:27:50.237065",
     "exception": false,
     "start_time": "2022-06-01T13:27:50.181949",
     "status": "completed"
    },
    "scrolled": true,
    "tags": []
   },
   "outputs": [
    {
     "data": {
      "text/html": [
       "<div>\n",
       "<style scoped>\n",
       "    .dataframe tbody tr th:only-of-type {\n",
       "        vertical-align: middle;\n",
       "    }\n",
       "\n",
       "    .dataframe tbody tr th {\n",
       "        vertical-align: top;\n",
       "    }\n",
       "\n",
       "    .dataframe thead th {\n",
       "        text-align: right;\n",
       "    }\n",
       "</style>\n",
       "<table border=\"1\" class=\"dataframe\">\n",
       "  <thead>\n",
       "    <tr style=\"text-align: right;\">\n",
       "      <th></th>\n",
       "      <th>BataryaGucu</th>\n",
       "      <th>Bluetooth</th>\n",
       "      <th>MikroislemciHizi</th>\n",
       "      <th>CiftHat</th>\n",
       "      <th>OnKameraMP</th>\n",
       "      <th>4G</th>\n",
       "      <th>DahiliBellek</th>\n",
       "      <th>Kalinlik</th>\n",
       "      <th>Agirlik</th>\n",
       "      <th>CekirdekSayisi</th>\n",
       "      <th>ArkaKameraMP</th>\n",
       "      <th>CozunurlukYükseklik</th>\n",
       "      <th>CozunurlukGenislik</th>\n",
       "      <th>RAM</th>\n",
       "      <th>BataryaOmru</th>\n",
       "      <th>3G</th>\n",
       "      <th>Dokunmatik</th>\n",
       "      <th>WiFi</th>\n",
       "      <th>FiyatAraligi</th>\n",
       "      <th>Renk</th>\n",
       "    </tr>\n",
       "  </thead>\n",
       "  <tbody>\n",
       "    <tr>\n",
       "      <th>826</th>\n",
       "      <td>1735</td>\n",
       "      <td>Yok</td>\n",
       "      <td>1.8</td>\n",
       "      <td>Var</td>\n",
       "      <td>16.0</td>\n",
       "      <td>Yok</td>\n",
       "      <td>34</td>\n",
       "      <td>0.1</td>\n",
       "      <td>140</td>\n",
       "      <td>2</td>\n",
       "      <td>17</td>\n",
       "      <td>149</td>\n",
       "      <td>876</td>\n",
       "      <td>2392.0</td>\n",
       "      <td>19</td>\n",
       "      <td>Var</td>\n",
       "      <td>Yok</td>\n",
       "      <td>Var</td>\n",
       "      <td>Normal</td>\n",
       "      <td>Siyah</td>\n",
       "    </tr>\n",
       "    <tr>\n",
       "      <th>883</th>\n",
       "      <td>1595</td>\n",
       "      <td>Var</td>\n",
       "      <td>0.8</td>\n",
       "      <td>Var</td>\n",
       "      <td>0.0</td>\n",
       "      <td>Var</td>\n",
       "      <td>44</td>\n",
       "      <td>0.7</td>\n",
       "      <td>85</td>\n",
       "      <td>4</td>\n",
       "      <td>20</td>\n",
       "      <td>1024</td>\n",
       "      <td>1838</td>\n",
       "      <td>3881.0</td>\n",
       "      <td>9</td>\n",
       "      <td>Var</td>\n",
       "      <td>Yok</td>\n",
       "      <td>Var</td>\n",
       "      <td>Pahalı</td>\n",
       "      <td>Mor</td>\n",
       "    </tr>\n",
       "    <tr>\n",
       "      <th>237</th>\n",
       "      <td>1829</td>\n",
       "      <td>Yok</td>\n",
       "      <td>1.7</td>\n",
       "      <td>Yok</td>\n",
       "      <td>0.0</td>\n",
       "      <td>Yok</td>\n",
       "      <td>36</td>\n",
       "      <td>0.8</td>\n",
       "      <td>112</td>\n",
       "      <td>5</td>\n",
       "      <td>1</td>\n",
       "      <td>291</td>\n",
       "      <td>563</td>\n",
       "      <td>1475.0</td>\n",
       "      <td>7</td>\n",
       "      <td>Yok</td>\n",
       "      <td>Yok</td>\n",
       "      <td>Yok</td>\n",
       "      <td>Ucuz</td>\n",
       "      <td>Kahverengi</td>\n",
       "    </tr>\n",
       "    <tr>\n",
       "      <th>1514</th>\n",
       "      <td>1163</td>\n",
       "      <td>Var</td>\n",
       "      <td>2.1</td>\n",
       "      <td>Var</td>\n",
       "      <td>0.0</td>\n",
       "      <td>Var</td>\n",
       "      <td>19</td>\n",
       "      <td>0.9</td>\n",
       "      <td>132</td>\n",
       "      <td>2</td>\n",
       "      <td>1</td>\n",
       "      <td>728</td>\n",
       "      <td>818</td>\n",
       "      <td>2940.0</td>\n",
       "      <td>15</td>\n",
       "      <td>Var</td>\n",
       "      <td>Yok</td>\n",
       "      <td>Var</td>\n",
       "      <td>Normal</td>\n",
       "      <td>Turkuaz</td>\n",
       "    </tr>\n",
       "    <tr>\n",
       "      <th>1230</th>\n",
       "      <td>1204</td>\n",
       "      <td>Var</td>\n",
       "      <td>2.6</td>\n",
       "      <td>Yok</td>\n",
       "      <td>0.0</td>\n",
       "      <td>Yok</td>\n",
       "      <td>10</td>\n",
       "      <td>0.3</td>\n",
       "      <td>199</td>\n",
       "      <td>7</td>\n",
       "      <td>3</td>\n",
       "      <td>480</td>\n",
       "      <td>1482</td>\n",
       "      <td>1724.0</td>\n",
       "      <td>19</td>\n",
       "      <td>Var</td>\n",
       "      <td>Yok</td>\n",
       "      <td>Yok</td>\n",
       "      <td>Ucuz</td>\n",
       "      <td>Turuncu</td>\n",
       "    </tr>\n",
       "  </tbody>\n",
       "</table>\n",
       "</div>"
      ],
      "text/plain": [
       "      BataryaGucu Bluetooth  MikroislemciHizi CiftHat  OnKameraMP   4G  \\\n",
       "826          1735       Yok               1.8     Var        16.0  Yok   \n",
       "883          1595       Var               0.8     Var         0.0  Var   \n",
       "237          1829       Yok               1.7     Yok         0.0  Yok   \n",
       "1514         1163       Var               2.1     Var         0.0  Var   \n",
       "1230         1204       Var               2.6     Yok         0.0  Yok   \n",
       "\n",
       "      DahiliBellek  Kalinlik  Agirlik  CekirdekSayisi  ArkaKameraMP  \\\n",
       "826             34       0.1      140               2            17   \n",
       "883             44       0.7       85               4            20   \n",
       "237             36       0.8      112               5             1   \n",
       "1514            19       0.9      132               2             1   \n",
       "1230            10       0.3      199               7             3   \n",
       "\n",
       "      CozunurlukYükseklik  CozunurlukGenislik     RAM  BataryaOmru   3G  \\\n",
       "826                   149                 876  2392.0           19  Var   \n",
       "883                  1024                1838  3881.0            9  Var   \n",
       "237                   291                 563  1475.0            7  Yok   \n",
       "1514                  728                 818  2940.0           15  Var   \n",
       "1230                  480                1482  1724.0           19  Var   \n",
       "\n",
       "     Dokunmatik WiFi FiyatAraligi        Renk  \n",
       "826         Yok  Var       Normal       Siyah  \n",
       "883         Yok  Var       Pahalı         Mor  \n",
       "237         Yok  Yok         Ucuz  Kahverengi  \n",
       "1514        Yok  Var       Normal     Turkuaz  \n",
       "1230        Yok  Yok         Ucuz     Turuncu  "
      ]
     },
     "execution_count": 3,
     "metadata": {},
     "output_type": "execute_result"
    }
   ],
   "source": [
    "df.sample(5) "
   ]
  },
  {
   "cell_type": "markdown",
   "id": "732c2415",
   "metadata": {},
   "source": [
    "### Veri seti bilgileri"
   ]
  },
  {
   "cell_type": "code",
   "execution_count": 4,
   "id": "87c1a743",
   "metadata": {
    "colab": {
     "base_uri": "https://localhost:8080/"
    },
    "execution": {
     "iopub.execute_input": "2022-06-01T13:27:50.348224Z",
     "iopub.status.busy": "2022-06-01T13:27:50.347787Z",
     "iopub.status.idle": "2022-06-01T13:27:50.371990Z",
     "shell.execute_reply": "2022-06-01T13:27:50.371136Z"
    },
    "id": "87c1a743",
    "outputId": "d06920be-df9f-409e-efa9-6f37a22559eb",
    "papermill": {
     "duration": 0.055696,
     "end_time": "2022-06-01T13:27:50.374486",
     "exception": false,
     "start_time": "2022-06-01T13:27:50.318790",
     "status": "completed"
    },
    "tags": []
   },
   "outputs": [
    {
     "name": "stdout",
     "output_type": "stream",
     "text": [
      "<class 'pandas.core.frame.DataFrame'>\n",
      "RangeIndex: 2000 entries, 0 to 1999\n",
      "Data columns (total 20 columns):\n",
      " #   Column               Non-Null Count  Dtype  \n",
      "---  ------               --------------  -----  \n",
      " 0   BataryaGucu          2000 non-null   int64  \n",
      " 1   Bluetooth            2000 non-null   object \n",
      " 2   MikroislemciHizi     2000 non-null   float64\n",
      " 3   CiftHat              2000 non-null   object \n",
      " 4   OnKameraMP           1995 non-null   float64\n",
      " 5   4G                   2000 non-null   object \n",
      " 6   DahiliBellek         2000 non-null   int64  \n",
      " 7   Kalinlik             2000 non-null   float64\n",
      " 8   Agirlik              2000 non-null   int64  \n",
      " 9   CekirdekSayisi       2000 non-null   int64  \n",
      " 10  ArkaKameraMP         2000 non-null   int64  \n",
      " 11  CozunurlukYükseklik  2000 non-null   int64  \n",
      " 12  CozunurlukGenislik   2000 non-null   int64  \n",
      " 13  RAM                  1988 non-null   float64\n",
      " 14  BataryaOmru          2000 non-null   int64  \n",
      " 15  3G                   2000 non-null   object \n",
      " 16  Dokunmatik           2000 non-null   object \n",
      " 17  WiFi                 2000 non-null   object \n",
      " 18  FiyatAraligi         2000 non-null   object \n",
      " 19  Renk                 2000 non-null   object \n",
      "dtypes: float64(4), int64(8), object(8)\n",
      "memory usage: 312.6+ KB\n"
     ]
    }
   ],
   "source": [
    "df.info()"
   ]
  },
  {
   "cell_type": "code",
   "execution_count": 5,
   "id": "27ed39ac",
   "metadata": {
    "colab": {
     "base_uri": "https://localhost:8080/"
    },
    "execution": {
     "iopub.execute_input": "2022-06-01T13:27:50.487302Z",
     "iopub.status.busy": "2022-06-01T13:27:50.486915Z",
     "iopub.status.idle": "2022-06-01T13:27:50.492107Z",
     "shell.execute_reply": "2022-06-01T13:27:50.490841Z"
    },
    "id": "27ed39ac",
    "outputId": "02efbad5-216d-4bd1-b953-cc44d5517169",
    "papermill": {
     "duration": 0.035979,
     "end_time": "2022-06-01T13:27:50.494210",
     "exception": false,
     "start_time": "2022-06-01T13:27:50.458231",
     "status": "completed"
    },
    "tags": []
   },
   "outputs": [
    {
     "name": "stdout",
     "output_type": "stream",
     "text": [
      "Gözlem sayımız :  2000\n",
      "Öznitelik sayımız:  20\n"
     ]
    }
   ],
   "source": [
    "print(\"Gözlem sayımız : \", df.shape[0])\n",
    "print(\"Öznitelik sayımız: \",df.shape[1])"
   ]
  },
  {
   "cell_type": "code",
   "execution_count": 6,
   "id": "df224138",
   "metadata": {
    "colab": {
     "base_uri": "https://localhost:8080/"
    },
    "execution": {
     "iopub.execute_input": "2022-06-01T13:27:50.606264Z",
     "iopub.status.busy": "2022-06-01T13:27:50.605825Z",
     "iopub.status.idle": "2022-06-01T13:27:50.616201Z",
     "shell.execute_reply": "2022-06-01T13:27:50.615543Z"
    },
    "id": "df224138",
    "outputId": "2f510f04-5f1f-437a-bb6e-f027f4d46a80",
    "papermill": {
     "duration": 0.041122,
     "end_time": "2022-06-01T13:27:50.618034",
     "exception": false,
     "start_time": "2022-06-01T13:27:50.576912",
     "status": "completed"
    },
    "tags": []
   },
   "outputs": [
    {
     "data": {
      "text/plain": [
       "BataryaGucu             0\n",
       "Bluetooth               0\n",
       "MikroislemciHizi        0\n",
       "CiftHat                 0\n",
       "OnKameraMP              5\n",
       "4G                      0\n",
       "DahiliBellek            0\n",
       "Kalinlik                0\n",
       "Agirlik                 0\n",
       "CekirdekSayisi          0\n",
       "ArkaKameraMP            0\n",
       "CozunurlukYükseklik     0\n",
       "CozunurlukGenislik      0\n",
       "RAM                    12\n",
       "BataryaOmru             0\n",
       "3G                      0\n",
       "Dokunmatik              0\n",
       "WiFi                    0\n",
       "FiyatAraligi            0\n",
       "Renk                    0\n",
       "dtype: int64"
      ]
     },
     "execution_count": 6,
     "metadata": {},
     "output_type": "execute_result"
    }
   ],
   "source": [
    "df.isnull().sum()"
   ]
  },
  {
   "cell_type": "code",
   "execution_count": 7,
   "id": "5e0e2554",
   "metadata": {
    "colab": {
     "base_uri": "https://localhost:8080/"
    },
    "execution": {
     "iopub.execute_input": "2022-06-01T13:27:50.731939Z",
     "iopub.status.busy": "2022-06-01T13:27:50.731375Z",
     "iopub.status.idle": "2022-06-01T13:27:50.737886Z",
     "shell.execute_reply": "2022-06-01T13:27:50.736985Z"
    },
    "id": "5e0e2554",
    "outputId": "6e35efcb-8f90-4dc7-8cd6-cd2569d556b9",
    "papermill": {
     "duration": 0.037671,
     "end_time": "2022-06-01T13:27:50.739910",
     "exception": false,
     "start_time": "2022-06-01T13:27:50.702239",
     "status": "completed"
    },
    "tags": []
   },
   "outputs": [
    {
     "data": {
      "text/plain": [
       "array(['Yok', 'Var'], dtype=object)"
      ]
     },
     "execution_count": 7,
     "metadata": {},
     "output_type": "execute_result"
    }
   ],
   "source": [
    "df[\"Bluetooth\"].unique()"
   ]
  },
  {
   "cell_type": "code",
   "execution_count": 8,
   "id": "2c4fb97b",
   "metadata": {
    "colab": {
     "base_uri": "https://localhost:8080/"
    },
    "execution": {
     "iopub.execute_input": "2022-06-01T13:27:50.798246Z",
     "iopub.status.busy": "2022-06-01T13:27:50.797256Z",
     "iopub.status.idle": "2022-06-01T13:27:50.803791Z",
     "shell.execute_reply": "2022-06-01T13:27:50.802926Z"
    },
    "id": "2c4fb97b",
    "outputId": "61cf2fca-e41d-4a79-c7c0-f1e2a7b7b1b1",
    "papermill": {
     "duration": 0.037591,
     "end_time": "2022-06-01T13:27:50.805607",
     "exception": false,
     "start_time": "2022-06-01T13:27:50.768016",
     "status": "completed"
    },
    "tags": []
   },
   "outputs": [
    {
     "data": {
      "text/plain": [
       "array(['Yok', 'Var'], dtype=object)"
      ]
     },
     "execution_count": 8,
     "metadata": {},
     "output_type": "execute_result"
    }
   ],
   "source": [
    "df[\"CiftHat\"].unique()"
   ]
  },
  {
   "cell_type": "code",
   "execution_count": 9,
   "id": "e1a4a732",
   "metadata": {
    "colab": {
     "base_uri": "https://localhost:8080/"
    },
    "execution": {
     "iopub.execute_input": "2022-06-01T13:27:50.863714Z",
     "iopub.status.busy": "2022-06-01T13:27:50.862727Z",
     "iopub.status.idle": "2022-06-01T13:27:50.869289Z",
     "shell.execute_reply": "2022-06-01T13:27:50.868410Z"
    },
    "id": "e1a4a732",
    "outputId": "b1316d1e-dcd3-400f-d84c-40f8cb3c1e58",
    "papermill": {
     "duration": 0.037562,
     "end_time": "2022-06-01T13:27:50.871284",
     "exception": false,
     "start_time": "2022-06-01T13:27:50.833722",
     "status": "completed"
    },
    "tags": []
   },
   "outputs": [
    {
     "data": {
      "text/plain": [
       "array(['Yok', 'Var'], dtype=object)"
      ]
     },
     "execution_count": 9,
     "metadata": {},
     "output_type": "execute_result"
    }
   ],
   "source": [
    "df[\"4G\"].unique()"
   ]
  },
  {
   "cell_type": "code",
   "execution_count": 10,
   "id": "a4822b20",
   "metadata": {
    "colab": {
     "base_uri": "https://localhost:8080/"
    },
    "execution": {
     "iopub.execute_input": "2022-06-01T13:27:50.929508Z",
     "iopub.status.busy": "2022-06-01T13:27:50.929141Z",
     "iopub.status.idle": "2022-06-01T13:27:50.935198Z",
     "shell.execute_reply": "2022-06-01T13:27:50.934300Z"
    },
    "id": "a4822b20",
    "outputId": "dcbf5e70-72e6-4ec3-df2f-395a03ea6475",
    "papermill": {
     "duration": 0.038608,
     "end_time": "2022-06-01T13:27:50.938186",
     "exception": false,
     "start_time": "2022-06-01T13:27:50.899578",
     "status": "completed"
    },
    "tags": []
   },
   "outputs": [
    {
     "data": {
      "text/plain": [
       "array(['Var', 'Yok'], dtype=object)"
      ]
     },
     "execution_count": 10,
     "metadata": {},
     "output_type": "execute_result"
    }
   ],
   "source": [
    "df[\"3G\"].unique()"
   ]
  },
  {
   "cell_type": "code",
   "execution_count": 11,
   "id": "153b5aa5",
   "metadata": {
    "colab": {
     "base_uri": "https://localhost:8080/"
    },
    "execution": {
     "iopub.execute_input": "2022-06-01T13:27:50.997601Z",
     "iopub.status.busy": "2022-06-01T13:27:50.996669Z",
     "iopub.status.idle": "2022-06-01T13:27:51.002934Z",
     "shell.execute_reply": "2022-06-01T13:27:51.002348Z"
    },
    "id": "153b5aa5",
    "outputId": "bb9bf7d8-9dfa-4166-af08-a7591ee90aac",
    "papermill": {
     "duration": 0.038082,
     "end_time": "2022-06-01T13:27:51.004819",
     "exception": false,
     "start_time": "2022-06-01T13:27:50.966737",
     "status": "completed"
    },
    "tags": []
   },
   "outputs": [
    {
     "data": {
      "text/plain": [
       "array(['Yok', 'Var'], dtype=object)"
      ]
     },
     "execution_count": 11,
     "metadata": {},
     "output_type": "execute_result"
    }
   ],
   "source": [
    "df[\"Dokunmatik\"].unique()"
   ]
  },
  {
   "cell_type": "code",
   "execution_count": 12,
   "id": "5a4ea20a",
   "metadata": {
    "colab": {
     "base_uri": "https://localhost:8080/"
    },
    "execution": {
     "iopub.execute_input": "2022-06-01T13:27:51.064988Z",
     "iopub.status.busy": "2022-06-01T13:27:51.064368Z",
     "iopub.status.idle": "2022-06-01T13:27:51.069733Z",
     "shell.execute_reply": "2022-06-01T13:27:51.069122Z"
    },
    "id": "5a4ea20a",
    "outputId": "57be3c75-8b1c-4ec9-bbd3-06829dbd982e",
    "papermill": {
     "duration": 0.037437,
     "end_time": "2022-06-01T13:27:51.071570",
     "exception": false,
     "start_time": "2022-06-01T13:27:51.034133",
     "status": "completed"
    },
    "tags": []
   },
   "outputs": [
    {
     "data": {
      "text/plain": [
       "array(['Yok', 'Var'], dtype=object)"
      ]
     },
     "execution_count": 12,
     "metadata": {},
     "output_type": "execute_result"
    }
   ],
   "source": [
    "df[\"WiFi\"].unique()"
   ]
  },
  {
   "cell_type": "code",
   "execution_count": 13,
   "id": "380900c7",
   "metadata": {
    "colab": {
     "base_uri": "https://localhost:8080/"
    },
    "execution": {
     "iopub.execute_input": "2022-06-01T13:27:51.131258Z",
     "iopub.status.busy": "2022-06-01T13:27:51.130833Z",
     "iopub.status.idle": "2022-06-01T13:27:51.137004Z",
     "shell.execute_reply": "2022-06-01T13:27:51.136135Z"
    },
    "id": "380900c7",
    "outputId": "6fbc57eb-11f2-4b13-889a-61cffb545f28",
    "papermill": {
     "duration": 0.038696,
     "end_time": "2022-06-01T13:27:51.139147",
     "exception": false,
     "start_time": "2022-06-01T13:27:51.100451",
     "status": "completed"
    },
    "tags": []
   },
   "outputs": [
    {
     "data": {
      "text/plain": [
       "array(['Normal', 'Pahalı', 'Ucuz', 'Çok Ucuz'], dtype=object)"
      ]
     },
     "execution_count": 13,
     "metadata": {},
     "output_type": "execute_result"
    }
   ],
   "source": [
    "df[\"FiyatAraligi\"].unique()"
   ]
  },
  {
   "cell_type": "code",
   "execution_count": 14,
   "id": "ebaa0549",
   "metadata": {
    "colab": {
     "base_uri": "https://localhost:8080/"
    },
    "execution": {
     "iopub.execute_input": "2022-06-01T13:27:51.200197Z",
     "iopub.status.busy": "2022-06-01T13:27:51.199479Z",
     "iopub.status.idle": "2022-06-01T13:27:51.206064Z",
     "shell.execute_reply": "2022-06-01T13:27:51.205199Z"
    },
    "id": "ebaa0549",
    "outputId": "4cf864b4-84e4-44d6-f6d8-9dcbba7da9b0",
    "papermill": {
     "duration": 0.039052,
     "end_time": "2022-06-01T13:27:51.207923",
     "exception": false,
     "start_time": "2022-06-01T13:27:51.168871",
     "status": "completed"
    },
    "tags": []
   },
   "outputs": [
    {
     "data": {
      "text/plain": [
       "array(['Beyaz', 'Pembe', 'Mor', 'Turuncu', 'Gri', 'Sarı', 'Mavi',\n",
       "       'Turkuaz', 'Kahverengi', 'Yeşil', 'Kırmızı', 'Siyah'], dtype=object)"
      ]
     },
     "execution_count": 14,
     "metadata": {},
     "output_type": "execute_result"
    }
   ],
   "source": [
    "df[\"Renk\"].unique()"
   ]
  },
  {
   "cell_type": "markdown",
   "id": "448abcb5",
   "metadata": {
    "id": "448abcb5",
    "papermill": {
     "duration": 0.048782,
     "end_time": "2022-06-01T13:28:03.899391",
     "exception": false,
     "start_time": "2022-06-01T13:28:03.850609",
     "status": "completed"
    },
    "tags": []
   },
   "source": [
    "##  Eksik Verilerin Tamamlanması <a id=\"9\"> </a>\n"
   ]
  },
  {
   "cell_type": "code",
   "execution_count": 15,
   "id": "f080ef40",
   "metadata": {
    "colab": {
     "base_uri": "https://localhost:8080/"
    },
    "execution": {
     "iopub.execute_input": "2022-06-01T13:28:04.099562Z",
     "iopub.status.busy": "2022-06-01T13:28:04.098955Z",
     "iopub.status.idle": "2022-06-01T13:28:04.107644Z",
     "shell.execute_reply": "2022-06-01T13:28:04.106993Z"
    },
    "id": "f080ef40",
    "outputId": "a2d4ed35-5b8c-469b-dbfc-d66b727de61e",
    "papermill": {
     "duration": 0.060764,
     "end_time": "2022-06-01T13:28:04.109591",
     "exception": false,
     "start_time": "2022-06-01T13:28:04.048827",
     "status": "completed"
    },
    "tags": []
   },
   "outputs": [
    {
     "data": {
      "text/plain": [
       "17"
      ]
     },
     "execution_count": 15,
     "metadata": {},
     "output_type": "execute_result"
    }
   ],
   "source": [
    "df.isnull().sum().sum()"
   ]
  },
  {
   "cell_type": "code",
   "execution_count": 16,
   "id": "b0d5c665",
   "metadata": {
    "colab": {
     "base_uri": "https://localhost:8080/"
    },
    "execution": {
     "iopub.execute_input": "2022-06-01T13:28:04.220431Z",
     "iopub.status.busy": "2022-06-01T13:28:04.219773Z",
     "iopub.status.idle": "2022-06-01T13:28:04.230363Z",
     "shell.execute_reply": "2022-06-01T13:28:04.229368Z"
    },
    "id": "b0d5c665",
    "outputId": "71cd937d-a209-4984-cdc2-25d8c89ed667",
    "papermill": {
     "duration": 0.06497,
     "end_time": "2022-06-01T13:28:04.232436",
     "exception": false,
     "start_time": "2022-06-01T13:28:04.167466",
     "status": "completed"
    },
    "tags": []
   },
   "outputs": [
    {
     "data": {
      "text/plain": [
       "BataryaGucu             0\n",
       "Bluetooth               0\n",
       "MikroislemciHizi        0\n",
       "CiftHat                 0\n",
       "OnKameraMP              5\n",
       "4G                      0\n",
       "DahiliBellek            0\n",
       "Kalinlik                0\n",
       "Agirlik                 0\n",
       "CekirdekSayisi          0\n",
       "ArkaKameraMP            0\n",
       "CozunurlukYükseklik     0\n",
       "CozunurlukGenislik      0\n",
       "RAM                    12\n",
       "BataryaOmru             0\n",
       "3G                      0\n",
       "Dokunmatik              0\n",
       "WiFi                    0\n",
       "FiyatAraligi            0\n",
       "Renk                    0\n",
       "dtype: int64"
      ]
     },
     "execution_count": 16,
     "metadata": {},
     "output_type": "execute_result"
    }
   ],
   "source": [
    "df.isnull().sum() "
   ]
  },
  {
   "cell_type": "markdown",
   "id": "ed6522a5",
   "metadata": {
    "id": "ed6522a5",
    "papermill": {
     "duration": 0.049302,
     "end_time": "2022-06-01T13:28:04.331396",
     "exception": false,
     "start_time": "2022-06-01T13:28:04.282094",
     "status": "completed"
    },
    "tags": []
   },
   "source": [
    "Verisetimizin RAM özniteliği eksik olan 12 adet, ön kamera bilgisi girilmemiş olan 5 adet eksik gözlemi mevcut. "
   ]
  },
  {
   "cell_type": "code",
   "execution_count": 17,
   "id": "4b874629",
   "metadata": {
    "colab": {
     "base_uri": "https://localhost:8080/",
     "height": 270
    },
    "execution": {
     "iopub.execute_input": "2022-06-01T13:28:05.541309Z",
     "iopub.status.busy": "2022-06-01T13:28:05.540781Z",
     "iopub.status.idle": "2022-06-01T13:28:05.562811Z",
     "shell.execute_reply": "2022-06-01T13:28:05.562105Z"
    },
    "id": "4b874629",
    "outputId": "2e44011a-e805-44ab-9875-761832f489b1",
    "papermill": {
     "duration": 0.096,
     "end_time": "2022-06-01T13:28:05.564753",
     "exception": false,
     "start_time": "2022-06-01T13:28:05.468753",
     "status": "completed"
    },
    "tags": []
   },
   "outputs": [
    {
     "data": {
      "text/html": [
       "<div>\n",
       "<style scoped>\n",
       "    .dataframe tbody tr th:only-of-type {\n",
       "        vertical-align: middle;\n",
       "    }\n",
       "\n",
       "    .dataframe tbody tr th {\n",
       "        vertical-align: top;\n",
       "    }\n",
       "\n",
       "    .dataframe thead th {\n",
       "        text-align: right;\n",
       "    }\n",
       "</style>\n",
       "<table border=\"1\" class=\"dataframe\">\n",
       "  <thead>\n",
       "    <tr style=\"text-align: right;\">\n",
       "      <th></th>\n",
       "      <th>BataryaGucu</th>\n",
       "      <th>Bluetooth</th>\n",
       "      <th>MikroislemciHizi</th>\n",
       "      <th>CiftHat</th>\n",
       "      <th>OnKameraMP</th>\n",
       "      <th>4G</th>\n",
       "      <th>DahiliBellek</th>\n",
       "      <th>Kalinlik</th>\n",
       "      <th>Agirlik</th>\n",
       "      <th>CekirdekSayisi</th>\n",
       "      <th>ArkaKameraMP</th>\n",
       "      <th>CozunurlukYükseklik</th>\n",
       "      <th>CozunurlukGenislik</th>\n",
       "      <th>RAM</th>\n",
       "      <th>BataryaOmru</th>\n",
       "      <th>3G</th>\n",
       "      <th>Dokunmatik</th>\n",
       "      <th>WiFi</th>\n",
       "      <th>FiyatAraligi</th>\n",
       "      <th>Renk</th>\n",
       "    </tr>\n",
       "  </thead>\n",
       "  <tbody>\n",
       "    <tr>\n",
       "      <th>351</th>\n",
       "      <td>726</td>\n",
       "      <td>Yok</td>\n",
       "      <td>2.2</td>\n",
       "      <td>Yok</td>\n",
       "      <td>NaN</td>\n",
       "      <td>Var</td>\n",
       "      <td>40</td>\n",
       "      <td>0.8</td>\n",
       "      <td>94</td>\n",
       "      <td>4</td>\n",
       "      <td>20</td>\n",
       "      <td>323</td>\n",
       "      <td>978</td>\n",
       "      <td>1342.0</td>\n",
       "      <td>4</td>\n",
       "      <td>Var</td>\n",
       "      <td>Var</td>\n",
       "      <td>Var</td>\n",
       "      <td>Çok Ucuz</td>\n",
       "      <td>Beyaz</td>\n",
       "    </tr>\n",
       "    <tr>\n",
       "      <th>726</th>\n",
       "      <td>1296</td>\n",
       "      <td>Yok</td>\n",
       "      <td>0.9</td>\n",
       "      <td>Var</td>\n",
       "      <td>NaN</td>\n",
       "      <td>Var</td>\n",
       "      <td>14</td>\n",
       "      <td>0.5</td>\n",
       "      <td>124</td>\n",
       "      <td>5</td>\n",
       "      <td>3</td>\n",
       "      <td>811</td>\n",
       "      <td>1272</td>\n",
       "      <td>490.0</td>\n",
       "      <td>4</td>\n",
       "      <td>Var</td>\n",
       "      <td>Var</td>\n",
       "      <td>Var</td>\n",
       "      <td>Çok Ucuz</td>\n",
       "      <td>Sarı</td>\n",
       "    </tr>\n",
       "    <tr>\n",
       "      <th>792</th>\n",
       "      <td>504</td>\n",
       "      <td>Yok</td>\n",
       "      <td>2.8</td>\n",
       "      <td>Var</td>\n",
       "      <td>NaN</td>\n",
       "      <td>Yok</td>\n",
       "      <td>40</td>\n",
       "      <td>0.5</td>\n",
       "      <td>178</td>\n",
       "      <td>3</td>\n",
       "      <td>0</td>\n",
       "      <td>626</td>\n",
       "      <td>1195</td>\n",
       "      <td>470.0</td>\n",
       "      <td>16</td>\n",
       "      <td>Var</td>\n",
       "      <td>Yok</td>\n",
       "      <td>Yok</td>\n",
       "      <td>Çok Ucuz</td>\n",
       "      <td>Siyah</td>\n",
       "    </tr>\n",
       "    <tr>\n",
       "      <th>1416</th>\n",
       "      <td>1617</td>\n",
       "      <td>Var</td>\n",
       "      <td>2.4</td>\n",
       "      <td>Yok</td>\n",
       "      <td>NaN</td>\n",
       "      <td>Var</td>\n",
       "      <td>36</td>\n",
       "      <td>0.8</td>\n",
       "      <td>85</td>\n",
       "      <td>1</td>\n",
       "      <td>9</td>\n",
       "      <td>743</td>\n",
       "      <td>1426</td>\n",
       "      <td>296.0</td>\n",
       "      <td>7</td>\n",
       "      <td>Var</td>\n",
       "      <td>Yok</td>\n",
       "      <td>Yok</td>\n",
       "      <td>Çok Ucuz</td>\n",
       "      <td>Sarı</td>\n",
       "    </tr>\n",
       "    <tr>\n",
       "      <th>1641</th>\n",
       "      <td>763</td>\n",
       "      <td>Yok</td>\n",
       "      <td>1.7</td>\n",
       "      <td>Var</td>\n",
       "      <td>NaN</td>\n",
       "      <td>Var</td>\n",
       "      <td>2</td>\n",
       "      <td>0.5</td>\n",
       "      <td>92</td>\n",
       "      <td>8</td>\n",
       "      <td>14</td>\n",
       "      <td>1028</td>\n",
       "      <td>1186</td>\n",
       "      <td>1050.0</td>\n",
       "      <td>8</td>\n",
       "      <td>Var</td>\n",
       "      <td>Var</td>\n",
       "      <td>Yok</td>\n",
       "      <td>Çok Ucuz</td>\n",
       "      <td>Siyah</td>\n",
       "    </tr>\n",
       "  </tbody>\n",
       "</table>\n",
       "</div>"
      ],
      "text/plain": [
       "      BataryaGucu Bluetooth  MikroislemciHizi CiftHat  OnKameraMP   4G  \\\n",
       "351           726       Yok               2.2     Yok         NaN  Var   \n",
       "726          1296       Yok               0.9     Var         NaN  Var   \n",
       "792           504       Yok               2.8     Var         NaN  Yok   \n",
       "1416         1617       Var               2.4     Yok         NaN  Var   \n",
       "1641          763       Yok               1.7     Var         NaN  Var   \n",
       "\n",
       "      DahiliBellek  Kalinlik  Agirlik  CekirdekSayisi  ArkaKameraMP  \\\n",
       "351             40       0.8       94               4            20   \n",
       "726             14       0.5      124               5             3   \n",
       "792             40       0.5      178               3             0   \n",
       "1416            36       0.8       85               1             9   \n",
       "1641             2       0.5       92               8            14   \n",
       "\n",
       "      CozunurlukYükseklik  CozunurlukGenislik     RAM  BataryaOmru   3G  \\\n",
       "351                   323                 978  1342.0            4  Var   \n",
       "726                   811                1272   490.0            4  Var   \n",
       "792                   626                1195   470.0           16  Var   \n",
       "1416                  743                1426   296.0            7  Var   \n",
       "1641                 1028                1186  1050.0            8  Var   \n",
       "\n",
       "     Dokunmatik WiFi FiyatAraligi   Renk  \n",
       "351         Var  Var     Çok Ucuz  Beyaz  \n",
       "726         Var  Var     Çok Ucuz   Sarı  \n",
       "792         Yok  Yok     Çok Ucuz  Siyah  \n",
       "1416        Yok  Yok     Çok Ucuz   Sarı  \n",
       "1641        Var  Yok     Çok Ucuz  Siyah  "
      ]
     },
     "execution_count": 17,
     "metadata": {},
     "output_type": "execute_result"
    }
   ],
   "source": [
    "df[df[\"OnKameraMP\"].isnull()]"
   ]
  },
  {
   "cell_type": "code",
   "execution_count": 18,
   "id": "3cbfa91b",
   "metadata": {
    "colab": {
     "base_uri": "https://localhost:8080/"
    },
    "execution": {
     "iopub.execute_input": "2022-06-01T13:28:06.141274Z",
     "iopub.status.busy": "2022-06-01T13:28:06.140838Z",
     "iopub.status.idle": "2022-06-01T13:28:06.149526Z",
     "shell.execute_reply": "2022-06-01T13:28:06.148826Z"
    },
    "id": "3cbfa91b",
    "outputId": "047c932a-22cd-4f35-8c89-df39580be34e",
    "papermill": {
     "duration": 0.064322,
     "end_time": "2022-06-01T13:28:06.151308",
     "exception": false,
     "start_time": "2022-06-01T13:28:06.086986",
     "status": "completed"
    },
    "tags": []
   },
   "outputs": [
    {
     "data": {
      "text/plain": [
       "FiyatAraligi\n",
       "Normal      4.498000\n",
       "Pahalı      4.316000\n",
       "Ucuz        4.340000\n",
       "Çok Ucuz    4.092929\n",
       "Name: OnKameraMP, dtype: float64"
      ]
     },
     "execution_count": 18,
     "metadata": {},
     "output_type": "execute_result"
    }
   ],
   "source": [
    "df.groupby(\"FiyatAraligi\")[\"OnKameraMP\"].mean()"
   ]
  },
  {
   "cell_type": "code",
   "execution_count": 19,
   "id": "f015c140",
   "metadata": {
    "colab": {
     "base_uri": "https://localhost:8080/"
    },
    "execution": {
     "iopub.execute_input": "2022-06-01T13:28:06.257936Z",
     "iopub.status.busy": "2022-06-01T13:28:06.257231Z",
     "iopub.status.idle": "2022-06-01T13:28:06.265090Z",
     "shell.execute_reply": "2022-06-01T13:28:06.264109Z"
    },
    "id": "f015c140",
    "outputId": "4e9820bc-94ef-48df-a839-17e9fb64e19e",
    "papermill": {
     "duration": 0.063642,
     "end_time": "2022-06-01T13:28:06.267116",
     "exception": false,
     "start_time": "2022-06-01T13:28:06.203474",
     "status": "completed"
    },
    "tags": []
   },
   "outputs": [
    {
     "data": {
      "text/plain": [
       "Int64Index([351, 726, 792, 1416, 1641], dtype='int64')"
      ]
     },
     "execution_count": 19,
     "metadata": {},
     "output_type": "execute_result"
    }
   ],
   "source": [
    "NaN_onKamera = df[df[\"OnKameraMP\"].isnull()].index\n",
    "NaN_onKamera"
   ]
  },
  {
   "cell_type": "code",
   "execution_count": 20,
   "id": "62ab3c55",
   "metadata": {
    "execution": {
     "iopub.execute_input": "2022-06-01T13:28:06.374358Z",
     "iopub.status.busy": "2022-06-01T13:28:06.373943Z",
     "iopub.status.idle": "2022-06-01T13:28:06.379453Z",
     "shell.execute_reply": "2022-06-01T13:28:06.378471Z"
    },
    "id": "62ab3c55",
    "papermill": {
     "duration": 0.061919,
     "end_time": "2022-06-01T13:28:06.381418",
     "exception": false,
     "start_time": "2022-06-01T13:28:06.319499",
     "status": "completed"
    },
    "tags": []
   },
   "outputs": [],
   "source": [
    "df.loc[NaN_onKamera ,\"OnKameraMP\"] = 4 "
   ]
  },
  {
   "cell_type": "code",
   "execution_count": 21,
   "id": "c2c34a78",
   "metadata": {
    "colab": {
     "base_uri": "https://localhost:8080/",
     "height": 490
    },
    "execution": {
     "iopub.execute_input": "2022-06-01T13:28:06.612108Z",
     "iopub.status.busy": "2022-06-01T13:28:06.610970Z",
     "iopub.status.idle": "2022-06-01T13:28:06.637950Z",
     "shell.execute_reply": "2022-06-01T13:28:06.637237Z"
    },
    "id": "c2c34a78",
    "outputId": "c5834f29-233c-42cb-eba3-d18befcd247d",
    "papermill": {
     "duration": 0.083297,
     "end_time": "2022-06-01T13:28:06.639893",
     "exception": false,
     "start_time": "2022-06-01T13:28:06.556596",
     "status": "completed"
    },
    "tags": []
   },
   "outputs": [
    {
     "data": {
      "text/html": [
       "<div>\n",
       "<style scoped>\n",
       "    .dataframe tbody tr th:only-of-type {\n",
       "        vertical-align: middle;\n",
       "    }\n",
       "\n",
       "    .dataframe tbody tr th {\n",
       "        vertical-align: top;\n",
       "    }\n",
       "\n",
       "    .dataframe thead th {\n",
       "        text-align: right;\n",
       "    }\n",
       "</style>\n",
       "<table border=\"1\" class=\"dataframe\">\n",
       "  <thead>\n",
       "    <tr style=\"text-align: right;\">\n",
       "      <th></th>\n",
       "      <th>BataryaGucu</th>\n",
       "      <th>Bluetooth</th>\n",
       "      <th>MikroislemciHizi</th>\n",
       "      <th>CiftHat</th>\n",
       "      <th>OnKameraMP</th>\n",
       "      <th>4G</th>\n",
       "      <th>DahiliBellek</th>\n",
       "      <th>Kalinlik</th>\n",
       "      <th>Agirlik</th>\n",
       "      <th>CekirdekSayisi</th>\n",
       "      <th>ArkaKameraMP</th>\n",
       "      <th>CozunurlukYükseklik</th>\n",
       "      <th>CozunurlukGenislik</th>\n",
       "      <th>RAM</th>\n",
       "      <th>BataryaOmru</th>\n",
       "      <th>3G</th>\n",
       "      <th>Dokunmatik</th>\n",
       "      <th>WiFi</th>\n",
       "      <th>FiyatAraligi</th>\n",
       "      <th>Renk</th>\n",
       "    </tr>\n",
       "  </thead>\n",
       "  <tbody>\n",
       "    <tr>\n",
       "      <th>87</th>\n",
       "      <td>1062</td>\n",
       "      <td>Var</td>\n",
       "      <td>2.5</td>\n",
       "      <td>Var</td>\n",
       "      <td>6.0</td>\n",
       "      <td>Yok</td>\n",
       "      <td>10</td>\n",
       "      <td>0.9</td>\n",
       "      <td>160</td>\n",
       "      <td>1</td>\n",
       "      <td>13</td>\n",
       "      <td>1596</td>\n",
       "      <td>1807</td>\n",
       "      <td>NaN</td>\n",
       "      <td>16</td>\n",
       "      <td>Yok</td>\n",
       "      <td>Yok</td>\n",
       "      <td>Var</td>\n",
       "      <td>Pahalı</td>\n",
       "      <td>Gri</td>\n",
       "    </tr>\n",
       "    <tr>\n",
       "      <th>169</th>\n",
       "      <td>1944</td>\n",
       "      <td>Var</td>\n",
       "      <td>1.8</td>\n",
       "      <td>Var</td>\n",
       "      <td>0.0</td>\n",
       "      <td>Var</td>\n",
       "      <td>31</td>\n",
       "      <td>0.8</td>\n",
       "      <td>87</td>\n",
       "      <td>4</td>\n",
       "      <td>10</td>\n",
       "      <td>1111</td>\n",
       "      <td>1362</td>\n",
       "      <td>NaN</td>\n",
       "      <td>8</td>\n",
       "      <td>Var</td>\n",
       "      <td>Yok</td>\n",
       "      <td>Yok</td>\n",
       "      <td>Pahalı</td>\n",
       "      <td>Beyaz</td>\n",
       "    </tr>\n",
       "    <tr>\n",
       "      <th>310</th>\n",
       "      <td>1479</td>\n",
       "      <td>Var</td>\n",
       "      <td>1.8</td>\n",
       "      <td>Var</td>\n",
       "      <td>0.0</td>\n",
       "      <td>Var</td>\n",
       "      <td>24</td>\n",
       "      <td>0.1</td>\n",
       "      <td>146</td>\n",
       "      <td>6</td>\n",
       "      <td>0</td>\n",
       "      <td>327</td>\n",
       "      <td>645</td>\n",
       "      <td>NaN</td>\n",
       "      <td>5</td>\n",
       "      <td>Var</td>\n",
       "      <td>Yok</td>\n",
       "      <td>Yok</td>\n",
       "      <td>Pahalı</td>\n",
       "      <td>Turuncu</td>\n",
       "    </tr>\n",
       "    <tr>\n",
       "      <th>329</th>\n",
       "      <td>1035</td>\n",
       "      <td>Yok</td>\n",
       "      <td>0.6</td>\n",
       "      <td>Var</td>\n",
       "      <td>2.0</td>\n",
       "      <td>Var</td>\n",
       "      <td>44</td>\n",
       "      <td>0.5</td>\n",
       "      <td>99</td>\n",
       "      <td>3</td>\n",
       "      <td>3</td>\n",
       "      <td>236</td>\n",
       "      <td>1960</td>\n",
       "      <td>NaN</td>\n",
       "      <td>12</td>\n",
       "      <td>Var</td>\n",
       "      <td>Var</td>\n",
       "      <td>Yok</td>\n",
       "      <td>Pahalı</td>\n",
       "      <td>Beyaz</td>\n",
       "    </tr>\n",
       "    <tr>\n",
       "      <th>658</th>\n",
       "      <td>732</td>\n",
       "      <td>Var</td>\n",
       "      <td>1.3</td>\n",
       "      <td>Yok</td>\n",
       "      <td>5.0</td>\n",
       "      <td>Var</td>\n",
       "      <td>32</td>\n",
       "      <td>0.4</td>\n",
       "      <td>163</td>\n",
       "      <td>8</td>\n",
       "      <td>7</td>\n",
       "      <td>1661</td>\n",
       "      <td>1836</td>\n",
       "      <td>NaN</td>\n",
       "      <td>5</td>\n",
       "      <td>Var</td>\n",
       "      <td>Yok</td>\n",
       "      <td>Var</td>\n",
       "      <td>Pahalı</td>\n",
       "      <td>Siyah</td>\n",
       "    </tr>\n",
       "    <tr>\n",
       "      <th>777</th>\n",
       "      <td>753</td>\n",
       "      <td>Var</td>\n",
       "      <td>0.5</td>\n",
       "      <td>Yok</td>\n",
       "      <td>11.0</td>\n",
       "      <td>Var</td>\n",
       "      <td>48</td>\n",
       "      <td>0.1</td>\n",
       "      <td>121</td>\n",
       "      <td>8</td>\n",
       "      <td>20</td>\n",
       "      <td>606</td>\n",
       "      <td>1316</td>\n",
       "      <td>NaN</td>\n",
       "      <td>16</td>\n",
       "      <td>Var</td>\n",
       "      <td>Yok</td>\n",
       "      <td>Yok</td>\n",
       "      <td>Pahalı</td>\n",
       "      <td>Turkuaz</td>\n",
       "    </tr>\n",
       "    <tr>\n",
       "      <th>871</th>\n",
       "      <td>1035</td>\n",
       "      <td>Var</td>\n",
       "      <td>2.7</td>\n",
       "      <td>Yok</td>\n",
       "      <td>1.0</td>\n",
       "      <td>Yok</td>\n",
       "      <td>40</td>\n",
       "      <td>0.2</td>\n",
       "      <td>157</td>\n",
       "      <td>5</td>\n",
       "      <td>15</td>\n",
       "      <td>757</td>\n",
       "      <td>1912</td>\n",
       "      <td>NaN</td>\n",
       "      <td>5</td>\n",
       "      <td>Yok</td>\n",
       "      <td>Var</td>\n",
       "      <td>Var</td>\n",
       "      <td>Pahalı</td>\n",
       "      <td>Turuncu</td>\n",
       "    </tr>\n",
       "    <tr>\n",
       "      <th>961</th>\n",
       "      <td>1949</td>\n",
       "      <td>Yok</td>\n",
       "      <td>1.3</td>\n",
       "      <td>Var</td>\n",
       "      <td>0.0</td>\n",
       "      <td>Yok</td>\n",
       "      <td>23</td>\n",
       "      <td>0.1</td>\n",
       "      <td>101</td>\n",
       "      <td>5</td>\n",
       "      <td>1</td>\n",
       "      <td>839</td>\n",
       "      <td>1136</td>\n",
       "      <td>NaN</td>\n",
       "      <td>20</td>\n",
       "      <td>Var</td>\n",
       "      <td>Yok</td>\n",
       "      <td>Yok</td>\n",
       "      <td>Pahalı</td>\n",
       "      <td>Sarı</td>\n",
       "    </tr>\n",
       "    <tr>\n",
       "      <th>965</th>\n",
       "      <td>1786</td>\n",
       "      <td>Yok</td>\n",
       "      <td>1.2</td>\n",
       "      <td>Yok</td>\n",
       "      <td>11.0</td>\n",
       "      <td>Yok</td>\n",
       "      <td>61</td>\n",
       "      <td>0.1</td>\n",
       "      <td>123</td>\n",
       "      <td>3</td>\n",
       "      <td>14</td>\n",
       "      <td>74</td>\n",
       "      <td>865</td>\n",
       "      <td>NaN</td>\n",
       "      <td>17</td>\n",
       "      <td>Yok</td>\n",
       "      <td>Var</td>\n",
       "      <td>Yok</td>\n",
       "      <td>Pahalı</td>\n",
       "      <td>Kahverengi</td>\n",
       "    </tr>\n",
       "    <tr>\n",
       "      <th>1180</th>\n",
       "      <td>1369</td>\n",
       "      <td>Var</td>\n",
       "      <td>1.8</td>\n",
       "      <td>Var</td>\n",
       "      <td>6.0</td>\n",
       "      <td>Yok</td>\n",
       "      <td>34</td>\n",
       "      <td>0.5</td>\n",
       "      <td>162</td>\n",
       "      <td>1</td>\n",
       "      <td>7</td>\n",
       "      <td>553</td>\n",
       "      <td>727</td>\n",
       "      <td>NaN</td>\n",
       "      <td>18</td>\n",
       "      <td>Yok</td>\n",
       "      <td>Var</td>\n",
       "      <td>Var</td>\n",
       "      <td>Pahalı</td>\n",
       "      <td>Turuncu</td>\n",
       "    </tr>\n",
       "    <tr>\n",
       "      <th>1779</th>\n",
       "      <td>1701</td>\n",
       "      <td>Var</td>\n",
       "      <td>0.5</td>\n",
       "      <td>Yok</td>\n",
       "      <td>13.0</td>\n",
       "      <td>Var</td>\n",
       "      <td>46</td>\n",
       "      <td>0.9</td>\n",
       "      <td>115</td>\n",
       "      <td>2</td>\n",
       "      <td>15</td>\n",
       "      <td>364</td>\n",
       "      <td>828</td>\n",
       "      <td>NaN</td>\n",
       "      <td>10</td>\n",
       "      <td>Var</td>\n",
       "      <td>Var</td>\n",
       "      <td>Yok</td>\n",
       "      <td>Pahalı</td>\n",
       "      <td>Yeşil</td>\n",
       "    </tr>\n",
       "    <tr>\n",
       "      <th>1804</th>\n",
       "      <td>1370</td>\n",
       "      <td>Yok</td>\n",
       "      <td>1.4</td>\n",
       "      <td>Yok</td>\n",
       "      <td>5.0</td>\n",
       "      <td>Var</td>\n",
       "      <td>6</td>\n",
       "      <td>0.2</td>\n",
       "      <td>158</td>\n",
       "      <td>6</td>\n",
       "      <td>8</td>\n",
       "      <td>1392</td>\n",
       "      <td>1783</td>\n",
       "      <td>NaN</td>\n",
       "      <td>11</td>\n",
       "      <td>Var</td>\n",
       "      <td>Var</td>\n",
       "      <td>Yok</td>\n",
       "      <td>Pahalı</td>\n",
       "      <td>Turkuaz</td>\n",
       "    </tr>\n",
       "  </tbody>\n",
       "</table>\n",
       "</div>"
      ],
      "text/plain": [
       "      BataryaGucu Bluetooth  MikroislemciHizi CiftHat  OnKameraMP   4G  \\\n",
       "87           1062       Var               2.5     Var         6.0  Yok   \n",
       "169          1944       Var               1.8     Var         0.0  Var   \n",
       "310          1479       Var               1.8     Var         0.0  Var   \n",
       "329          1035       Yok               0.6     Var         2.0  Var   \n",
       "658           732       Var               1.3     Yok         5.0  Var   \n",
       "777           753       Var               0.5     Yok        11.0  Var   \n",
       "871          1035       Var               2.7     Yok         1.0  Yok   \n",
       "961          1949       Yok               1.3     Var         0.0  Yok   \n",
       "965          1786       Yok               1.2     Yok        11.0  Yok   \n",
       "1180         1369       Var               1.8     Var         6.0  Yok   \n",
       "1779         1701       Var               0.5     Yok        13.0  Var   \n",
       "1804         1370       Yok               1.4     Yok         5.0  Var   \n",
       "\n",
       "      DahiliBellek  Kalinlik  Agirlik  CekirdekSayisi  ArkaKameraMP  \\\n",
       "87              10       0.9      160               1            13   \n",
       "169             31       0.8       87               4            10   \n",
       "310             24       0.1      146               6             0   \n",
       "329             44       0.5       99               3             3   \n",
       "658             32       0.4      163               8             7   \n",
       "777             48       0.1      121               8            20   \n",
       "871             40       0.2      157               5            15   \n",
       "961             23       0.1      101               5             1   \n",
       "965             61       0.1      123               3            14   \n",
       "1180            34       0.5      162               1             7   \n",
       "1779            46       0.9      115               2            15   \n",
       "1804             6       0.2      158               6             8   \n",
       "\n",
       "      CozunurlukYükseklik  CozunurlukGenislik  RAM  BataryaOmru   3G  \\\n",
       "87                   1596                1807  NaN           16  Yok   \n",
       "169                  1111                1362  NaN            8  Var   \n",
       "310                   327                 645  NaN            5  Var   \n",
       "329                   236                1960  NaN           12  Var   \n",
       "658                  1661                1836  NaN            5  Var   \n",
       "777                   606                1316  NaN           16  Var   \n",
       "871                   757                1912  NaN            5  Yok   \n",
       "961                   839                1136  NaN           20  Var   \n",
       "965                    74                 865  NaN           17  Yok   \n",
       "1180                  553                 727  NaN           18  Yok   \n",
       "1779                  364                 828  NaN           10  Var   \n",
       "1804                 1392                1783  NaN           11  Var   \n",
       "\n",
       "     Dokunmatik WiFi FiyatAraligi        Renk  \n",
       "87          Yok  Var       Pahalı         Gri  \n",
       "169         Yok  Yok       Pahalı       Beyaz  \n",
       "310         Yok  Yok       Pahalı     Turuncu  \n",
       "329         Var  Yok       Pahalı       Beyaz  \n",
       "658         Yok  Var       Pahalı       Siyah  \n",
       "777         Yok  Yok       Pahalı     Turkuaz  \n",
       "871         Var  Var       Pahalı     Turuncu  \n",
       "961         Yok  Yok       Pahalı        Sarı  \n",
       "965         Var  Yok       Pahalı  Kahverengi  \n",
       "1180        Var  Var       Pahalı     Turuncu  \n",
       "1779        Var  Yok       Pahalı       Yeşil  \n",
       "1804        Var  Yok       Pahalı     Turkuaz  "
      ]
     },
     "execution_count": 21,
     "metadata": {},
     "output_type": "execute_result"
    }
   ],
   "source": [
    "df[df[\"RAM\"].isnull()]"
   ]
  },
  {
   "cell_type": "code",
   "execution_count": 22,
   "id": "b386f8e7",
   "metadata": {
    "colab": {
     "base_uri": "https://localhost:8080/"
    },
    "execution": {
     "iopub.execute_input": "2022-06-01T13:28:06.855066Z",
     "iopub.status.busy": "2022-06-01T13:28:06.854674Z",
     "iopub.status.idle": "2022-06-01T13:28:06.862768Z",
     "shell.execute_reply": "2022-06-01T13:28:06.862083Z"
    },
    "id": "b386f8e7",
    "outputId": "b9f6e784-85f1-45ff-f96d-d2580e596bd5",
    "papermill": {
     "duration": 0.064271,
     "end_time": "2022-06-01T13:28:06.864585",
     "exception": false,
     "start_time": "2022-06-01T13:28:06.800314",
     "status": "completed"
    },
    "tags": []
   },
   "outputs": [
    {
     "data": {
      "text/plain": [
       "FiyatAraligi\n",
       "Normal      2582.81600\n",
       "Pahalı      3449.35041\n",
       "Ucuz        1679.49000\n",
       "Çok Ucuz     785.31400\n",
       "Name: RAM, dtype: float64"
      ]
     },
     "execution_count": 22,
     "metadata": {},
     "output_type": "execute_result"
    }
   ],
   "source": [
    "df.groupby(\"FiyatAraligi\")[\"RAM\"].mean()"
   ]
  },
  {
   "cell_type": "code",
   "execution_count": 23,
   "id": "af8e884b",
   "metadata": {
    "colab": {
     "base_uri": "https://localhost:8080/"
    },
    "execution": {
     "iopub.execute_input": "2022-06-01T13:28:06.974302Z",
     "iopub.status.busy": "2022-06-01T13:28:06.973736Z",
     "iopub.status.idle": "2022-06-01T13:28:06.980172Z",
     "shell.execute_reply": "2022-06-01T13:28:06.979437Z"
    },
    "id": "af8e884b",
    "outputId": "4a9797ab-8e52-425d-9634-67821d611885",
    "papermill": {
     "duration": 0.063988,
     "end_time": "2022-06-01T13:28:06.982108",
     "exception": false,
     "start_time": "2022-06-01T13:28:06.918120",
     "status": "completed"
    },
    "tags": []
   },
   "outputs": [
    {
     "data": {
      "text/plain": [
       "Int64Index([87, 169, 310, 329, 658, 777, 871, 961, 965, 1180, 1779, 1804], dtype='int64')"
      ]
     },
     "execution_count": 23,
     "metadata": {},
     "output_type": "execute_result"
    }
   ],
   "source": [
    "NaN_Ram= df[df[\"RAM\"].isnull()].index\n",
    "NaN_Ram"
   ]
  },
  {
   "cell_type": "code",
   "execution_count": 24,
   "id": "9cd07620",
   "metadata": {
    "execution": {
     "iopub.execute_input": "2022-06-01T13:28:07.093291Z",
     "iopub.status.busy": "2022-06-01T13:28:07.092629Z",
     "iopub.status.idle": "2022-06-01T13:28:07.097434Z",
     "shell.execute_reply": "2022-06-01T13:28:07.096801Z"
    },
    "id": "9cd07620",
    "papermill": {
     "duration": 0.06219,
     "end_time": "2022-06-01T13:28:07.099211",
     "exception": false,
     "start_time": "2022-06-01T13:28:07.037021",
     "status": "completed"
    },
    "tags": []
   },
   "outputs": [],
   "source": [
    "df.loc[NaN_Ram ,\"RAM\"] = 3450 "
   ]
  },
  {
   "cell_type": "code",
   "execution_count": 25,
   "id": "8856b18f",
   "metadata": {
    "colab": {
     "base_uri": "https://localhost:8080/"
    },
    "execution": {
     "iopub.execute_input": "2022-06-01T13:28:07.440443Z",
     "iopub.status.busy": "2022-06-01T13:28:07.439802Z",
     "iopub.status.idle": "2022-06-01T13:28:07.448678Z",
     "shell.execute_reply": "2022-06-01T13:28:07.447977Z"
    },
    "id": "8856b18f",
    "outputId": "34735d2c-d1fc-4a8a-dc38-5ea7f6f0a982",
    "papermill": {
     "duration": 0.066464,
     "end_time": "2022-06-01T13:28:07.450626",
     "exception": false,
     "start_time": "2022-06-01T13:28:07.384162",
     "status": "completed"
    },
    "tags": []
   },
   "outputs": [
    {
     "data": {
      "text/plain": [
       "0"
      ]
     },
     "execution_count": 25,
     "metadata": {},
     "output_type": "execute_result"
    }
   ],
   "source": [
    "df.isnull().sum().sum()"
   ]
  },
  {
   "cell_type": "markdown",
   "id": "c654e9ee",
   "metadata": {
    "id": "c654e9ee",
    "papermill": {
     "duration": 0.058531,
     "end_time": "2022-06-01T13:28:10.411730",
     "exception": false,
     "start_time": "2022-06-01T13:28:10.353199",
     "status": "completed"
    },
    "tags": []
   },
   "source": [
    "### Kategorik değerlere dönüştürme   <a id=\"11\"> </a>"
   ]
  },
  {
   "cell_type": "code",
   "execution_count": 26,
   "id": "c442ef4d",
   "metadata": {
    "colab": {
     "base_uri": "https://localhost:8080/",
     "height": 518
    },
    "execution": {
     "iopub.execute_input": "2022-06-01T13:28:10.686341Z",
     "iopub.status.busy": "2022-06-01T13:28:10.685496Z",
     "iopub.status.idle": "2022-06-01T13:28:11.017165Z",
     "shell.execute_reply": "2022-06-01T13:28:11.016219Z"
    },
    "id": "c442ef4d",
    "outputId": "acdef495-b08e-4179-cf99-84c56e6192a1",
    "papermill": {
     "duration": 0.547767,
     "end_time": "2022-06-01T13:28:11.019044",
     "exception": false,
     "start_time": "2022-06-01T13:28:10.471277",
     "status": "completed"
    },
    "tags": []
   },
   "outputs": [
    {
     "ename": "NameError",
     "evalue": "name 'sns' is not defined",
     "output_type": "error",
     "traceback": [
      "\u001b[0;31m---------------------------------------------------------------------------\u001b[0m",
      "\u001b[0;31mNameError\u001b[0m                                 Traceback (most recent call last)",
      "Cell \u001b[0;32mIn[26], line 1\u001b[0m\n\u001b[0;32m----> 1\u001b[0m \u001b[43msns\u001b[49m\u001b[38;5;241m.\u001b[39mcatplot(x\u001b[38;5;241m=\u001b[39m\u001b[38;5;124m\"\u001b[39m\u001b[38;5;124mFiyatAraligi\u001b[39m\u001b[38;5;124m\"\u001b[39m, y\u001b[38;5;241m=\u001b[39m\u001b[38;5;124m\"\u001b[39m\u001b[38;5;124mRenk\u001b[39m\u001b[38;5;124m\"\u001b[39m,data \u001b[38;5;241m=\u001b[39m df)\n",
      "\u001b[0;31mNameError\u001b[0m: name 'sns' is not defined"
     ]
    }
   ],
   "source": [
    "sns.catplot(x=\"FiyatAraligi\", y=\"Renk\",data = df)"
   ]
  },
  {
   "cell_type": "markdown",
   "id": "6a09d492",
   "metadata": {
    "id": "6a09d492",
    "papermill": {
     "duration": 0.058428,
     "end_time": "2022-06-01T13:28:11.136434",
     "exception": false,
     "start_time": "2022-06-01T13:28:11.078006",
     "status": "completed"
    },
    "tags": []
   },
   "source": [
    "Renklerin fiyat aralığına bir etkisi olmadığını gördük. Bu yüzden renk özniteliğini çıkartabiliriz."
   ]
  },
  {
   "cell_type": "code",
   "execution_count": null,
   "id": "81ac4c17",
   "metadata": {
    "execution": {
     "iopub.execute_input": "2022-06-01T13:28:11.254945Z",
     "iopub.status.busy": "2022-06-01T13:28:11.254579Z",
     "iopub.status.idle": "2022-06-01T13:28:11.260237Z",
     "shell.execute_reply": "2022-06-01T13:28:11.259536Z"
    },
    "id": "81ac4c17",
    "papermill": {
     "duration": 0.066876,
     "end_time": "2022-06-01T13:28:11.261925",
     "exception": false,
     "start_time": "2022-06-01T13:28:11.195049",
     "status": "completed"
    },
    "tags": []
   },
   "outputs": [],
   "source": [
    "df.drop('Renk', inplace=True, axis=1)"
   ]
  },
  {
   "cell_type": "code",
   "execution_count": 27,
   "id": "dc381159",
   "metadata": {
    "colab": {
     "base_uri": "https://localhost:8080/",
     "height": 270
    },
    "execution": {
     "iopub.execute_input": "2022-06-01T13:28:11.382234Z",
     "iopub.status.busy": "2022-06-01T13:28:11.381572Z",
     "iopub.status.idle": "2022-06-01T13:28:11.410250Z",
     "shell.execute_reply": "2022-06-01T13:28:11.409534Z"
    },
    "id": "dc381159",
    "outputId": "6d217356-6a74-4e22-f49f-780599affbdb",
    "papermill": {
     "duration": 0.091481,
     "end_time": "2022-06-01T13:28:11.412108",
     "exception": false,
     "start_time": "2022-06-01T13:28:11.320627",
     "status": "completed"
    },
    "tags": []
   },
   "outputs": [
    {
     "data": {
      "text/html": [
       "<div>\n",
       "<style scoped>\n",
       "    .dataframe tbody tr th:only-of-type {\n",
       "        vertical-align: middle;\n",
       "    }\n",
       "\n",
       "    .dataframe tbody tr th {\n",
       "        vertical-align: top;\n",
       "    }\n",
       "\n",
       "    .dataframe thead th {\n",
       "        text-align: right;\n",
       "    }\n",
       "</style>\n",
       "<table border=\"1\" class=\"dataframe\">\n",
       "  <thead>\n",
       "    <tr style=\"text-align: right;\">\n",
       "      <th></th>\n",
       "      <th>BataryaGucu</th>\n",
       "      <th>Bluetooth</th>\n",
       "      <th>MikroislemciHizi</th>\n",
       "      <th>CiftHat</th>\n",
       "      <th>OnKameraMP</th>\n",
       "      <th>4G</th>\n",
       "      <th>DahiliBellek</th>\n",
       "      <th>Kalinlik</th>\n",
       "      <th>Agirlik</th>\n",
       "      <th>CekirdekSayisi</th>\n",
       "      <th>ArkaKameraMP</th>\n",
       "      <th>CozunurlukYükseklik</th>\n",
       "      <th>CozunurlukGenislik</th>\n",
       "      <th>RAM</th>\n",
       "      <th>BataryaOmru</th>\n",
       "      <th>3G</th>\n",
       "      <th>Dokunmatik</th>\n",
       "      <th>WiFi</th>\n",
       "      <th>FiyatAraligi</th>\n",
       "      <th>Renk</th>\n",
       "    </tr>\n",
       "  </thead>\n",
       "  <tbody>\n",
       "    <tr>\n",
       "      <th>0</th>\n",
       "      <td>1325</td>\n",
       "      <td>1</td>\n",
       "      <td>1.9</td>\n",
       "      <td>1</td>\n",
       "      <td>2.0</td>\n",
       "      <td>1</td>\n",
       "      <td>50</td>\n",
       "      <td>0.1</td>\n",
       "      <td>146</td>\n",
       "      <td>1</td>\n",
       "      <td>10</td>\n",
       "      <td>499</td>\n",
       "      <td>695</td>\n",
       "      <td>2328.0</td>\n",
       "      <td>2</td>\n",
       "      <td>0</td>\n",
       "      <td>1</td>\n",
       "      <td>1</td>\n",
       "      <td>0</td>\n",
       "      <td>0</td>\n",
       "    </tr>\n",
       "    <tr>\n",
       "      <th>1</th>\n",
       "      <td>1046</td>\n",
       "      <td>0</td>\n",
       "      <td>2.8</td>\n",
       "      <td>0</td>\n",
       "      <td>0.0</td>\n",
       "      <td>0</td>\n",
       "      <td>58</td>\n",
       "      <td>0.2</td>\n",
       "      <td>100</td>\n",
       "      <td>8</td>\n",
       "      <td>0</td>\n",
       "      <td>259</td>\n",
       "      <td>1040</td>\n",
       "      <td>3863.0</td>\n",
       "      <td>9</td>\n",
       "      <td>0</td>\n",
       "      <td>0</td>\n",
       "      <td>0</td>\n",
       "      <td>1</td>\n",
       "      <td>6</td>\n",
       "    </tr>\n",
       "    <tr>\n",
       "      <th>2</th>\n",
       "      <td>843</td>\n",
       "      <td>1</td>\n",
       "      <td>1.3</td>\n",
       "      <td>0</td>\n",
       "      <td>1.0</td>\n",
       "      <td>1</td>\n",
       "      <td>16</td>\n",
       "      <td>0.9</td>\n",
       "      <td>119</td>\n",
       "      <td>7</td>\n",
       "      <td>4</td>\n",
       "      <td>593</td>\n",
       "      <td>732</td>\n",
       "      <td>1734.0</td>\n",
       "      <td>14</td>\n",
       "      <td>1</td>\n",
       "      <td>1</td>\n",
       "      <td>0</td>\n",
       "      <td>2</td>\n",
       "      <td>5</td>\n",
       "    </tr>\n",
       "    <tr>\n",
       "      <th>3</th>\n",
       "      <td>894</td>\n",
       "      <td>1</td>\n",
       "      <td>0.5</td>\n",
       "      <td>0</td>\n",
       "      <td>1.0</td>\n",
       "      <td>0</td>\n",
       "      <td>50</td>\n",
       "      <td>0.5</td>\n",
       "      <td>199</td>\n",
       "      <td>3</td>\n",
       "      <td>14</td>\n",
       "      <td>1285</td>\n",
       "      <td>1462</td>\n",
       "      <td>3615.0</td>\n",
       "      <td>6</td>\n",
       "      <td>0</td>\n",
       "      <td>1</td>\n",
       "      <td>0</td>\n",
       "      <td>1</td>\n",
       "      <td>10</td>\n",
       "    </tr>\n",
       "    <tr>\n",
       "      <th>4</th>\n",
       "      <td>936</td>\n",
       "      <td>1</td>\n",
       "      <td>1.0</td>\n",
       "      <td>1</td>\n",
       "      <td>1.0</td>\n",
       "      <td>1</td>\n",
       "      <td>18</td>\n",
       "      <td>0.2</td>\n",
       "      <td>153</td>\n",
       "      <td>3</td>\n",
       "      <td>18</td>\n",
       "      <td>1330</td>\n",
       "      <td>1686</td>\n",
       "      <td>2391.0</td>\n",
       "      <td>3</td>\n",
       "      <td>0</td>\n",
       "      <td>0</td>\n",
       "      <td>0</td>\n",
       "      <td>0</td>\n",
       "      <td>0</td>\n",
       "    </tr>\n",
       "  </tbody>\n",
       "</table>\n",
       "</div>"
      ],
      "text/plain": [
       "   BataryaGucu  Bluetooth  MikroislemciHizi  CiftHat  OnKameraMP  4G  \\\n",
       "0         1325          1               1.9        1         2.0   1   \n",
       "1         1046          0               2.8        0         0.0   0   \n",
       "2          843          1               1.3        0         1.0   1   \n",
       "3          894          1               0.5        0         1.0   0   \n",
       "4          936          1               1.0        1         1.0   1   \n",
       "\n",
       "   DahiliBellek  Kalinlik  Agirlik  CekirdekSayisi  ArkaKameraMP  \\\n",
       "0            50       0.1      146               1            10   \n",
       "1            58       0.2      100               8             0   \n",
       "2            16       0.9      119               7             4   \n",
       "3            50       0.5      199               3            14   \n",
       "4            18       0.2      153               3            18   \n",
       "\n",
       "   CozunurlukYükseklik  CozunurlukGenislik     RAM  BataryaOmru  3G  \\\n",
       "0                  499                 695  2328.0            2   0   \n",
       "1                  259                1040  3863.0            9   0   \n",
       "2                  593                 732  1734.0           14   1   \n",
       "3                 1285                1462  3615.0            6   0   \n",
       "4                 1330                1686  2391.0            3   0   \n",
       "\n",
       "   Dokunmatik  WiFi  FiyatAraligi  Renk  \n",
       "0           1     1             0     0  \n",
       "1           0     0             1     6  \n",
       "2           1     0             2     5  \n",
       "3           1     0             1    10  \n",
       "4           0     0             0     0  "
      ]
     },
     "execution_count": 27,
     "metadata": {},
     "output_type": "execute_result"
    }
   ],
   "source": [
    "label_encoder = preprocessing.LabelEncoder()\n",
    "df['Bluetooth'] = label_encoder.fit_transform(df['Bluetooth'])\n",
    "df['CiftHat'] = label_encoder.fit_transform(df['CiftHat'])\n",
    "df['4G'] = label_encoder.fit_transform(df['4G'])\n",
    "df['3G'] = label_encoder.fit_transform(df['3G'])\n",
    "df['Dokunmatik'] = label_encoder.fit_transform(df['Dokunmatik'])\n",
    "df['WiFi'] = label_encoder.fit_transform(df['WiFi'])\n",
    "df['Renk'] = label_encoder.fit_transform(df['Renk'])\n",
    "df['FiyatAraligi'] = label_encoder.fit_transform(df['FiyatAraligi'])\n",
    "\n",
    "df.head()"
   ]
  },
  {
   "cell_type": "markdown",
   "id": "3bff8090",
   "metadata": {
    "id": "3bff8090",
    "papermill": {
     "duration": 0.059034,
     "end_time": "2022-06-01T13:28:11.529512",
     "exception": false,
     "start_time": "2022-06-01T13:28:11.470478",
     "status": "completed"
    },
    "tags": []
   },
   "source": [
    "## Modellerin oluşturulması ve eğitilmesi <a id=\"12\"> </a>"
   ]
  },
  {
   "cell_type": "code",
   "execution_count": 42,
   "id": "e0c5cf97",
   "metadata": {},
   "outputs": [],
   "source": [
    "y = df['FiyatAraligi']\n",
    "X = df.drop(['FiyatAraligi'], axis=1)"
   ]
  },
  {
   "cell_type": "code",
   "execution_count": 43,
   "id": "88136dd5",
   "metadata": {
    "execution": {
     "iopub.execute_input": "2022-06-01T13:28:11.778939Z",
     "iopub.status.busy": "2022-06-01T13:28:11.778276Z",
     "iopub.status.idle": "2022-06-01T13:28:11.784591Z",
     "shell.execute_reply": "2022-06-01T13:28:11.783627Z"
    },
    "id": "88136dd5",
    "papermill": {
     "duration": 0.069674,
     "end_time": "2022-06-01T13:28:11.786495",
     "exception": false,
     "start_time": "2022-06-01T13:28:11.716821",
     "status": "completed"
    },
    "tags": []
   },
   "outputs": [],
   "source": [
    "X_train, X_test, y_train, y_test = train_test_split(X, y, \n",
    "                                                    test_size = 0.25, \n",
    "                                                    random_state = 42)\n",
    "                                                    "
   ]
  },
  {
   "cell_type": "markdown",
   "id": "0e48a28c",
   "metadata": {
    "id": "0e48a28c",
    "papermill": {
     "duration": 0.059699,
     "end_time": "2022-06-01T13:28:13.570805",
     "exception": false,
     "start_time": "2022-06-01T13:28:13.511106",
     "status": "completed"
    },
    "tags": []
   },
   "source": [
    "### Desicion tree <a id=\"14\"> </a>"
   ]
  },
  {
   "cell_type": "code",
   "execution_count": 44,
   "id": "16271c19",
   "metadata": {
    "execution": {
     "iopub.execute_input": "2022-06-01T13:28:13.693622Z",
     "iopub.status.busy": "2022-06-01T13:28:13.692900Z",
     "iopub.status.idle": "2022-06-01T13:28:13.707876Z",
     "shell.execute_reply": "2022-06-01T13:28:13.707154Z"
    },
    "id": "16271c19",
    "papermill": {
     "duration": 0.078662,
     "end_time": "2022-06-01T13:28:13.710021",
     "exception": false,
     "start_time": "2022-06-01T13:28:13.631359",
     "status": "completed"
    },
    "tags": []
   },
   "outputs": [],
   "source": [
    "cart = DecisionTreeClassifier(random_state = 0)\n",
    "cart_model = cart.fit(X_train, y_train)"
   ]
  },
  {
   "cell_type": "code",
   "execution_count": 45,
   "id": "76cf6b4b",
   "metadata": {},
   "outputs": [
    {
     "data": {
      "text/plain": [
       "0.818"
      ]
     },
     "execution_count": 45,
     "metadata": {},
     "output_type": "execute_result"
    }
   ],
   "source": [
    "y_pred = cart_model.predict(X_test)\n",
    "accuracy_score(y_test, y_pred)"
   ]
  },
  {
   "cell_type": "code",
   "execution_count": 46,
   "id": "c6798163",
   "metadata": {
    "scrolled": true
   },
   "outputs": [
    {
     "name": "stdout",
     "output_type": "stream",
     "text": [
      "Öznitelik: 0, Skor: 0.11739\n",
      "Öznitelik: 1, Skor: 0.00450\n",
      "Öznitelik: 2, Skor: 0.00705\n",
      "Öznitelik: 3, Skor: 0.00089\n",
      "Öznitelik: 4, Skor: 0.00954\n",
      "Öznitelik: 5, Skor: 0.00089\n",
      "Öznitelik: 6, Skor: 0.00898\n",
      "Öznitelik: 7, Skor: 0.00980\n",
      "Öznitelik: 8, Skor: 0.01539\n",
      "Öznitelik: 9, Skor: 0.00551\n",
      "Öznitelik: 10, Skor: 0.00840\n",
      "Öznitelik: 11, Skor: 0.07387\n",
      "Öznitelik: 12, Skor: 0.07097\n",
      "Öznitelik: 13, Skor: 0.64845\n",
      "Öznitelik: 14, Skor: 0.00747\n",
      "Öznitelik: 15, Skor: 0.00207\n",
      "Öznitelik: 16, Skor: 0.00119\n",
      "Öznitelik: 17, Skor: 0.00000\n",
      "Öznitelik: 18, Skor: 0.00764\n"
     ]
    }
   ],
   "source": [
    "importance = cart_model.feature_importances_\n",
    "for i,v in enumerate(importance):\n",
    "    print('Öznitelik: %0d, Skor: %.5f' % (i,v))\n"
   ]
  },
  {
   "cell_type": "code",
   "execution_count": 49,
   "id": "e23069fb",
   "metadata": {},
   "outputs": [],
   "source": [
    "X = df[['BataryaGucu', 'CozunurlukGenislik', 'RAM']]\n",
    "y = df['FiyatAraligi']\n",
    "X_train, X_test, y_train, y_test = train_test_split(X, y, \n",
    "                                                    test_size = 0.25, \n",
    "                                                    random_state = 42)"
   ]
  },
  {
   "cell_type": "code",
   "execution_count": 50,
   "id": "2e4307c6",
   "metadata": {},
   "outputs": [],
   "source": [
    "cart = DecisionTreeClassifier(random_state = 0)\n",
    "cart_model = cart.fit(X_train, y_train)"
   ]
  },
  {
   "cell_type": "code",
   "execution_count": 51,
   "id": "dfe4669f",
   "metadata": {
    "colab": {
     "base_uri": "https://localhost:8080/"
    },
    "execution": {
     "iopub.execute_input": "2022-06-01T13:28:13.832282Z",
     "iopub.status.busy": "2022-06-01T13:28:13.831566Z",
     "iopub.status.idle": "2022-06-01T13:28:13.840566Z",
     "shell.execute_reply": "2022-06-01T13:28:13.839650Z"
    },
    "id": "dfe4669f",
    "outputId": "c389419c-f1a2-461f-bfa9-ca431ef2ee27",
    "papermill": {
     "duration": 0.072865,
     "end_time": "2022-06-01T13:28:13.842509",
     "exception": false,
     "start_time": "2022-06-01T13:28:13.769644",
     "status": "completed"
    },
    "tags": []
   },
   "outputs": [
    {
     "data": {
      "text/plain": [
       "0.838"
      ]
     },
     "execution_count": 51,
     "metadata": {},
     "output_type": "execute_result"
    }
   ],
   "source": [
    "y_pred = cart_model.predict(X_test)\n",
    "accuracy_score(y_test, y_pred)"
   ]
  },
  {
   "cell_type": "code",
   "execution_count": 52,
   "id": "51f899bd",
   "metadata": {
    "colab": {
     "base_uri": "https://localhost:8080/"
    },
    "execution": {
     "iopub.execute_input": "2022-06-01T13:28:13.965215Z",
     "iopub.status.busy": "2022-06-01T13:28:13.964418Z",
     "iopub.status.idle": "2022-06-01T13:28:13.974988Z",
     "shell.execute_reply": "2022-06-01T13:28:13.973999Z"
    },
    "id": "51f899bd",
    "outputId": "4da355af-539c-4ed7-eb1f-00692ccf585b",
    "papermill": {
     "duration": 0.074959,
     "end_time": "2022-06-01T13:28:13.977815",
     "exception": false,
     "start_time": "2022-06-01T13:28:13.902856",
     "status": "completed"
    },
    "tags": []
   },
   "outputs": [
    {
     "name": "stdout",
     "output_type": "stream",
     "text": [
      "              precision    recall  f1-score   support\n",
      "\n",
      "           0       0.76      0.81      0.79       131\n",
      "           1       0.87      0.81      0.84       113\n",
      "           2       0.83      0.80      0.81       127\n",
      "           3       0.90      0.93      0.91       129\n",
      "\n",
      "    accuracy                           0.84       500\n",
      "   macro avg       0.84      0.84      0.84       500\n",
      "weighted avg       0.84      0.84      0.84       500\n",
      "\n"
     ]
    }
   ],
   "source": [
    "print(classification_report(y_test, y_pred))"
   ]
  },
  {
   "cell_type": "code",
   "execution_count": 53,
   "id": "510c1cff",
   "metadata": {},
   "outputs": [
    {
     "data": {
      "text/html": [
       "<style>#sk-container-id-1 {color: black;background-color: white;}#sk-container-id-1 pre{padding: 0;}#sk-container-id-1 div.sk-toggleable {background-color: white;}#sk-container-id-1 label.sk-toggleable__label {cursor: pointer;display: block;width: 100%;margin-bottom: 0;padding: 0.3em;box-sizing: border-box;text-align: center;}#sk-container-id-1 label.sk-toggleable__label-arrow:before {content: \"▸\";float: left;margin-right: 0.25em;color: #696969;}#sk-container-id-1 label.sk-toggleable__label-arrow:hover:before {color: black;}#sk-container-id-1 div.sk-estimator:hover label.sk-toggleable__label-arrow:before {color: black;}#sk-container-id-1 div.sk-toggleable__content {max-height: 0;max-width: 0;overflow: hidden;text-align: left;background-color: #f0f8ff;}#sk-container-id-1 div.sk-toggleable__content pre {margin: 0.2em;color: black;border-radius: 0.25em;background-color: #f0f8ff;}#sk-container-id-1 input.sk-toggleable__control:checked~div.sk-toggleable__content {max-height: 200px;max-width: 100%;overflow: auto;}#sk-container-id-1 input.sk-toggleable__control:checked~label.sk-toggleable__label-arrow:before {content: \"▾\";}#sk-container-id-1 div.sk-estimator input.sk-toggleable__control:checked~label.sk-toggleable__label {background-color: #d4ebff;}#sk-container-id-1 div.sk-label input.sk-toggleable__control:checked~label.sk-toggleable__label {background-color: #d4ebff;}#sk-container-id-1 input.sk-hidden--visually {border: 0;clip: rect(1px 1px 1px 1px);clip: rect(1px, 1px, 1px, 1px);height: 1px;margin: -1px;overflow: hidden;padding: 0;position: absolute;width: 1px;}#sk-container-id-1 div.sk-estimator {font-family: monospace;background-color: #f0f8ff;border: 1px dotted black;border-radius: 0.25em;box-sizing: border-box;margin-bottom: 0.5em;}#sk-container-id-1 div.sk-estimator:hover {background-color: #d4ebff;}#sk-container-id-1 div.sk-parallel-item::after {content: \"\";width: 100%;border-bottom: 1px solid gray;flex-grow: 1;}#sk-container-id-1 div.sk-label:hover label.sk-toggleable__label {background-color: #d4ebff;}#sk-container-id-1 div.sk-serial::before {content: \"\";position: absolute;border-left: 1px solid gray;box-sizing: border-box;top: 0;bottom: 0;left: 50%;z-index: 0;}#sk-container-id-1 div.sk-serial {display: flex;flex-direction: column;align-items: center;background-color: white;padding-right: 0.2em;padding-left: 0.2em;position: relative;}#sk-container-id-1 div.sk-item {position: relative;z-index: 1;}#sk-container-id-1 div.sk-parallel {display: flex;align-items: stretch;justify-content: center;background-color: white;position: relative;}#sk-container-id-1 div.sk-item::before, #sk-container-id-1 div.sk-parallel-item::before {content: \"\";position: absolute;border-left: 1px solid gray;box-sizing: border-box;top: 0;bottom: 0;left: 50%;z-index: -1;}#sk-container-id-1 div.sk-parallel-item {display: flex;flex-direction: column;z-index: 1;position: relative;background-color: white;}#sk-container-id-1 div.sk-parallel-item:first-child::after {align-self: flex-end;width: 50%;}#sk-container-id-1 div.sk-parallel-item:last-child::after {align-self: flex-start;width: 50%;}#sk-container-id-1 div.sk-parallel-item:only-child::after {width: 0;}#sk-container-id-1 div.sk-dashed-wrapped {border: 1px dashed gray;margin: 0 0.4em 0.5em 0.4em;box-sizing: border-box;padding-bottom: 0.4em;background-color: white;}#sk-container-id-1 div.sk-label label {font-family: monospace;font-weight: bold;display: inline-block;line-height: 1.2em;}#sk-container-id-1 div.sk-label-container {text-align: center;}#sk-container-id-1 div.sk-container {/* jupyter's `normalize.less` sets `[hidden] { display: none; }` but bootstrap.min.css set `[hidden] { display: none !important; }` so we also need the `!important` here to be able to override the default hidden behavior on the sphinx rendered scikit-learn.org. See: https://github.com/scikit-learn/scikit-learn/issues/21755 */display: inline-block !important;position: relative;}#sk-container-id-1 div.sk-text-repr-fallback {display: none;}</style><div id=\"sk-container-id-1\" class=\"sk-top-container\"><div class=\"sk-text-repr-fallback\"><pre>DecisionTreeClassifier(max_depth=7, min_samples_split=20)</pre><b>In a Jupyter environment, please rerun this cell to show the HTML representation or trust the notebook. <br />On GitHub, the HTML representation is unable to render, please try loading this page with nbviewer.org.</b></div><div class=\"sk-container\" hidden><div class=\"sk-item\"><div class=\"sk-estimator sk-toggleable\"><input class=\"sk-toggleable__control sk-hidden--visually\" id=\"sk-estimator-id-1\" type=\"checkbox\" checked><label for=\"sk-estimator-id-1\" class=\"sk-toggleable__label sk-toggleable__label-arrow\">DecisionTreeClassifier</label><div class=\"sk-toggleable__content\"><pre>DecisionTreeClassifier(max_depth=7, min_samples_split=20)</pre></div></div></div></div></div>"
      ],
      "text/plain": [
       "DecisionTreeClassifier(max_depth=7, min_samples_split=20)"
      ]
     },
     "execution_count": 53,
     "metadata": {},
     "output_type": "execute_result"
    }
   ],
   "source": [
    "param_grid = {'max_depth': [3, 5, 7, 10],\n",
    "              'min_samples_split': [2, 5, 10, 20]}\n",
    "\n",
    "# GridSearchCV ile hipertarametre arama ve en iyi parametreleri bulma\n",
    "grid_search = GridSearchCV(model, param_grid=param_grid, cv=5, scoring='accuracy')\n",
    "grid_search.fit(X, y)\n",
    "\n",
    "# En iyi parametreleri kullanarak final modelini oluşturma\n",
    "best_params = grid_search.best_params_\n",
    "final_model = DecisionTreeClassifier(max_depth=best_params['max_depth'], \n",
    "                                      min_samples_split=best_params['min_samples_split'])\n",
    "\n",
    "# Final modeli eğitme\n",
    "final_model.fit(X, y)"
   ]
  },
  {
   "cell_type": "code",
   "execution_count": 54,
   "id": "cb9afdcc",
   "metadata": {},
   "outputs": [
    {
     "data": {
      "text/plain": [
       "0.916"
      ]
     },
     "execution_count": 54,
     "metadata": {},
     "output_type": "execute_result"
    }
   ],
   "source": [
    "y_pred = final_model.predict(X_test)\n",
    "accuracy_score(y_test, y_pred)"
   ]
  },
  {
   "cell_type": "code",
   "execution_count": 55,
   "id": "a0b38836",
   "metadata": {},
   "outputs": [
    {
     "name": "stdout",
     "output_type": "stream",
     "text": [
      "              precision    recall  f1-score   support\n",
      "\n",
      "           0       0.89      0.89      0.89       131\n",
      "           1       0.93      0.93      0.93       113\n",
      "           2       0.92      0.87      0.90       127\n",
      "           3       0.93      0.98      0.95       129\n",
      "\n",
      "    accuracy                           0.92       500\n",
      "   macro avg       0.92      0.92      0.92       500\n",
      "weighted avg       0.92      0.92      0.92       500\n",
      "\n"
     ]
    }
   ],
   "source": [
    "print(classification_report(y_test, y_pred))"
   ]
  },
  {
   "cell_type": "code",
   "execution_count": 57,
   "id": "802d70bb",
   "metadata": {},
   "outputs": [
    {
     "name": "stdout",
     "output_type": "stream",
     "text": [
      "[[116   8   7   0]\n",
      " [  8 105   0   0]\n",
      " [  6   0 111  10]\n",
      " [  0   0   3 126]]\n"
     ]
    },
    {
     "data": {
      "text/plain": [
       "0.8140000000000001"
      ]
     },
     "execution_count": 57,
     "metadata": {},
     "output_type": "execute_result"
    }
   ],
   "source": [
    "karmasiklik_matrisi = confusion_matrix(y_test, y_pred)\n",
    "print(karmasiklik_matrisi)\n",
    "cross_val_score(cart_model, X_test, y_test, cv = 10).mean()"
   ]
  },
  {
   "cell_type": "markdown",
   "id": "7085dd20",
   "metadata": {},
   "source": [
    "Normal -> 0\n",
    "\n",
    "Pahalı -> 1\n",
    "\n",
    "Ucuz -> 2\n",
    "\n",
    "Çok Ucuz -> 3\n",
    "\n",
    "Yok -> 1\n",
    "Var -> 0"
   ]
  },
  {
   "cell_type": "code",
   "execution_count": null,
   "id": "473418df",
   "metadata": {},
   "outputs": [],
   "source": [
    "BataryaGucu = 2500\n",
    "Bluetooth = 1\n",
    "MikroislemciHizi = 2.2\n",
    "CiftHat = 0\n",
    "OnKameraMp = 5\n",
    "DortG = 0\n",
    "DahiliBellek = 32\n",
    "Kalinlik = 0.9\n",
    "Agirlik = 120\n",
    "CekirdekSayisi = 4\n",
    "ArkaKameraMp = 12\n",
    "CozunurlukYükseklik = 900\n",
    "CozunurlukGenislik = 1200\n",
    "RAM = 3000\n",
    "BataryaOmru = 12\n",
    "UcG = 0\n",
    "Dokunmatik = 0\n",
    "WiFi = 0\n",
    "cart_model.predict([[BataryaGucu,Bluetooth,MikroislemciHizi,CiftHat,OnKameraMp,DortG,DahiliBellek,Kalinlik,Agirlik,CekirdekSayisi,ArkaKameraMp,CozunurlukYükseklik,CozunurlukGenislik,RAM,BataryaOmru,UcG,Dokunmatik,WiFi]])"
   ]
  },
  {
   "cell_type": "code",
   "execution_count": null,
   "id": "yC3qzXQBV9WL",
   "metadata": {
    "colab": {
     "base_uri": "https://localhost:8080/",
     "height": 427
    },
    "id": "yC3qzXQBV9WL",
    "outputId": "9c69e61f-3f4e-49fb-dfab-be8640c8cf06"
   },
   "outputs": [],
   "source": [
    "test = pd.DataFrame(X_test).copy() \n",
    "test[\"fiyatAraligi\"] = y_test\n",
    "test[\"predicted_fiyatAraligi\"] = y_pred\n",
    "test.sample(5)"
   ]
  },
  {
   "cell_type": "markdown",
   "id": "a5a8ab71",
   "metadata": {
    "id": "a5a8ab71",
    "papermill": {
     "duration": 0.079361,
     "end_time": "2022-06-01T13:28:31.449845",
     "exception": false,
     "start_time": "2022-06-01T13:28:31.370484",
     "status": "completed"
    },
    "tags": []
   },
   "source": [
    "### KNN <a id=\"15\"> </a>"
   ]
  },
  {
   "cell_type": "code",
   "execution_count": 93,
   "id": "4bb035d0",
   "metadata": {},
   "outputs": [],
   "source": [
    "y = df['FiyatAraligi']\n",
    "X = df.drop(['FiyatAraligi'], axis=1)\n",
    "X_train, X_test, y_train, y_test = train_test_split(X, y, \n",
    "                                                    test_size = 0.25, \n",
    "                                                    random_state = 42)"
   ]
  },
  {
   "cell_type": "code",
   "execution_count": 83,
   "id": "fa262656",
   "metadata": {
    "scrolled": true
   },
   "outputs": [
    {
     "name": "stdout",
     "output_type": "stream",
     "text": [
      "En iyi parametreler:  {'metric': 'euclidean', 'n_neighbors': 9}\n"
     ]
    }
   ],
   "source": [
    "# KNN sınıflandırıcı nesnesi oluştur\n",
    "knn = KNeighborsClassifier()\n",
    "\n",
    "# GridSearchCV nesnesi oluştur ve parametreleri ayarla\n",
    "param_grid = {'n_neighbors': [3, 5, 7, 9], 'metric': ['euclidean', 'manhattan']}\n",
    "grid_search = GridSearchCV(knn, param_grid, cv=5)\n",
    "\n",
    "# GridSearchCV nesnesini eğit\n",
    "grid_search.fit(X_train, y_train)\n",
    "\n",
    "# En iyi parametreleri yazdır\n",
    "print(\"En iyi parametreler: \", grid_search.best_params_)"
   ]
  },
  {
   "cell_type": "code",
   "execution_count": 88,
   "id": "f8a0e4f0",
   "metadata": {},
   "outputs": [
    {
     "data": {
      "text/plain": [
       "0.934"
      ]
     },
     "execution_count": 88,
     "metadata": {},
     "output_type": "execute_result"
    }
   ],
   "source": [
    "knn_tuned = KNeighborsClassifier(metric = \"euclidean\", n_neighbors = 9)\n",
    "knn_tuned = knn_tuned.fit(X_train, y_train)\n",
    "y_pred = knn_tuned.predict(X_test)\n",
    "accuracy_score(y_test, y_pred)"
   ]
  },
  {
   "cell_type": "code",
   "execution_count": null,
   "id": "eb1c4ea5",
   "metadata": {},
   "outputs": [],
   "source": [
    "BataryaGucu = 2500\n",
    "Bluetooth = 1\n",
    "MikroislemciHizi = 2.2\n",
    "CiftHat = 0\n",
    "OnKameraMp = 5\n",
    "DortG = 0\n",
    "DahiliBellek = 32\n",
    "Kalinlik = 0.9\n",
    "Agirlik = 120\n",
    "CekirdekSayisi = 4\n",
    "ArkaKameraMp = 12\n",
    "CozunurlukYükseklik = 900\n",
    "CozunurlukGenislik = 1200\n",
    "RAM = 3000\n",
    "BataryaOmru = 12\n",
    "UcG = 0\n",
    "Dokunmatik = 0\n",
    "WiFi = 0\n",
    "knn_tuned.predict([[BataryaGucu,Bluetooth,MikroislemciHizi,CiftHat,OnKameraMp,DortG,DahiliBellek,Kalinlik,Agirlik,CekirdekSayisi,ArkaKameraMp,CozunurlukYükseklik,CozunurlukGenislik,RAM,BataryaOmru,UcG,Dokunmatik,WiFi]])"
   ]
  },
  {
   "cell_type": "code",
   "execution_count": 87,
   "id": "6c8895e2",
   "metadata": {
    "colab": {
     "base_uri": "https://localhost:8080/"
    },
    "execution": {
     "iopub.execute_input": "2022-06-01T13:28:33.866613Z",
     "iopub.status.busy": "2022-06-01T13:28:33.865775Z",
     "iopub.status.idle": "2022-06-01T13:28:33.947236Z",
     "shell.execute_reply": "2022-06-01T13:28:33.946045Z"
    },
    "id": "6c8895e2",
    "outputId": "0f321d4f-3de9-405f-e052-d6da002cdd5b",
    "papermill": {
     "duration": 0.159287,
     "end_time": "2022-06-01T13:28:33.950249",
     "exception": false,
     "start_time": "2022-06-01T13:28:33.790962",
     "status": "completed"
    },
    "tags": []
   },
   "outputs": [
    {
     "name": "stdout",
     "output_type": "stream",
     "text": [
      "[[116   7   8   0]\n",
      " [  3 110   0   0]\n",
      " [  4   0 116   7]\n",
      " [  0   0   4 125]]\n"
     ]
    },
    {
     "data": {
      "text/plain": [
       "0.906"
      ]
     },
     "execution_count": 87,
     "metadata": {},
     "output_type": "execute_result"
    }
   ],
   "source": [
    "karmasiklik_matrisi = confusion_matrix(y_test, y_pred)\n",
    "print(karmasiklik_matrisi)\n",
    "cross_val_score(knn_tuned, X_test, y_test, cv = 10).mean()"
   ]
  },
  {
   "cell_type": "code",
   "execution_count": 86,
   "id": "b400b990",
   "metadata": {
    "colab": {
     "base_uri": "https://localhost:8080/"
    },
    "execution": {
     "iopub.execute_input": "2022-06-01T13:28:34.100252Z",
     "iopub.status.busy": "2022-06-01T13:28:34.099513Z",
     "iopub.status.idle": "2022-06-01T13:28:34.111886Z",
     "shell.execute_reply": "2022-06-01T13:28:34.110827Z"
    },
    "id": "b400b990",
    "outputId": "68512528-3f1b-46cc-e89c-19ab4d4032ff",
    "papermill": {
     "duration": 0.090085,
     "end_time": "2022-06-01T13:28:34.114441",
     "exception": false,
     "start_time": "2022-06-01T13:28:34.024356",
     "status": "completed"
    },
    "scrolled": true,
    "tags": []
   },
   "outputs": [
    {
     "name": "stdout",
     "output_type": "stream",
     "text": [
      "              precision    recall  f1-score   support\n",
      "\n",
      "           0       0.94      0.89      0.91       131\n",
      "           1       0.94      0.97      0.96       113\n",
      "           2       0.91      0.91      0.91       127\n",
      "           3       0.95      0.97      0.96       129\n",
      "\n",
      "    accuracy                           0.93       500\n",
      "   macro avg       0.93      0.94      0.93       500\n",
      "weighted avg       0.93      0.93      0.93       500\n",
      "\n"
     ]
    }
   ],
   "source": [
    "print(classification_report(y_test, y_pred))"
   ]
  },
  {
   "cell_type": "markdown",
   "id": "389943f0",
   "metadata": {},
   "source": [
    "CHATGPT results\n"
   ]
  },
  {
   "cell_type": "code",
   "execution_count": 95,
   "id": "b24debe7",
   "metadata": {
    "id": "b24debe7",
    "papermill": {
     "duration": 0.071964,
     "end_time": "2022-06-01T13:28:34.258814",
     "exception": false,
     "start_time": "2022-06-01T13:28:34.186850",
     "status": "completed"
    },
    "tags": []
   },
   "outputs": [
    {
     "data": {
      "text/plain": [
       "0.938"
      ]
     },
     "execution_count": 95,
     "metadata": {},
     "output_type": "execute_result"
    }
   ],
   "source": [
    "\n",
    "\n",
    "# Model Seçimi\n",
    "from sklearn.ensemble import RandomForestClassifier\n",
    "\n",
    "rf = RandomForestClassifier()\n",
    "rf.fit(X_train, y_train)\n",
    "\n",
    "# Hiperparametre Ayarı\n",
    "from sklearn.model_selection import RandomizedSearchCV\n",
    "\n",
    "params = {'n_neighbors': [3, 5, 7, 9, 11],\n",
    "          'weights': ['uniform', 'distance'],\n",
    "          'algorithm': ['auto', 'ball_tree', 'kd_tree', 'brute'],\n",
    "          'p': [1, 2]}\n",
    "          \n",
    "knn = KNeighborsClassifier()\n",
    "knn_random = RandomizedSearchCV(estimator=knn, param_distributions=params, n_iter=100, cv=5, random_state=42)\n",
    "knn_random.fit(X_train, y_train)\n",
    "y_pred = knn_random.predict(X_test)\n",
    "accuracy_score(y_test, y_pred)"
   ]
  },
  {
   "cell_type": "code",
   "execution_count": 96,
   "id": "5effebb2",
   "metadata": {},
   "outputs": [
    {
     "ename": "NameError",
     "evalue": "name 'SVC' is not defined",
     "output_type": "error",
     "traceback": [
      "\u001b[0;31m---------------------------------------------------------------------------\u001b[0m",
      "\u001b[0;31mNameError\u001b[0m                                 Traceback (most recent call last)",
      "Cell \u001b[0;32mIn[96], line 11\u001b[0m\n\u001b[1;32m      8\u001b[0m \u001b[38;5;28;01mfrom\u001b[39;00m \u001b[38;5;21;01msklearn\u001b[39;00m\u001b[38;5;21;01m.\u001b[39;00m\u001b[38;5;21;01mensemble\u001b[39;00m \u001b[38;5;28;01mimport\u001b[39;00m VotingClassifier\n\u001b[1;32m     10\u001b[0m dt \u001b[38;5;241m=\u001b[39m DecisionTreeClassifier()\n\u001b[0;32m---> 11\u001b[0m svm \u001b[38;5;241m=\u001b[39m \u001b[43mSVC\u001b[49m(probability\u001b[38;5;241m=\u001b[39m\u001b[38;5;28;01mTrue\u001b[39;00m)\n\u001b[1;32m     13\u001b[0m voting \u001b[38;5;241m=\u001b[39m VotingClassifier(estimators\u001b[38;5;241m=\u001b[39m[(\u001b[38;5;124m'\u001b[39m\u001b[38;5;124mdt\u001b[39m\u001b[38;5;124m'\u001b[39m, dt), (\u001b[38;5;124m'\u001b[39m\u001b[38;5;124mknn\u001b[39m\u001b[38;5;124m'\u001b[39m, knn), (\u001b[38;5;124m'\u001b[39m\u001b[38;5;124msvm\u001b[39m\u001b[38;5;124m'\u001b[39m, svm)], voting\u001b[38;5;241m=\u001b[39m\u001b[38;5;124m'\u001b[39m\u001b[38;5;124msoft\u001b[39m\u001b[38;5;124m'\u001b[39m)\n\u001b[1;32m     14\u001b[0m voting\u001b[38;5;241m.\u001b[39mfit(X_train, y_train)\n",
      "\u001b[0;31mNameError\u001b[0m: name 'SVC' is not defined"
     ]
    }
   ],
   "source": [
    "\n",
    "# Veri Artırma\n",
    "from imblearn.over_sampling import SMOTE\n",
    "\n",
    "smote = SMOTE(random_state=42)\n",
    "X_resampled, y_resampled = smote.fit_resample(X_train, y_train)\n",
    "\n",
    "# Model Ensemble\n",
    "from sklearn.ensemble import VotingClassifier\n",
    "\n",
    "dt = DecisionTreeClassifier()\n",
    "svm = SVC(probability=True)\n",
    "\n",
    "voting = VotingClassifier(estimators=[('dt', dt), ('knn', knn), ('svm', svm)], voting='soft')\n",
    "voting.fit(X_train, y_train)"
   ]
  }
 ],
 "metadata": {
  "colab": {
   "provenance": []
  },
  "kernelspec": {
   "display_name": "Python 3 (ipykernel)",
   "language": "python",
   "name": "python3"
  },
  "language_info": {
   "codemirror_mode": {
    "name": "ipython",
    "version": 3
   },
   "file_extension": ".py",
   "mimetype": "text/x-python",
   "name": "python",
   "nbconvert_exporter": "python",
   "pygments_lexer": "ipython3",
   "version": "3.10.9"
  },
  "papermill": {
   "default_parameters": {},
   "duration": 58.620384,
   "end_time": "2022-06-01T13:28:36.952679",
   "environment_variables": {},
   "exception": null,
   "input_path": "__notebook__.ipynb",
   "output_path": "__notebook__.ipynb",
   "parameters": {},
   "start_time": "2022-06-01T13:27:38.332295",
   "version": "2.3.4"
  }
 },
 "nbformat": 4,
 "nbformat_minor": 5
}
